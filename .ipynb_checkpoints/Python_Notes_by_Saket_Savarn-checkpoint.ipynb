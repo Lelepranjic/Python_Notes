{
 "cells": [
  {
   "cell_type": "markdown",
   "metadata": {
    "colab_type": "text",
    "id": "SnF9NXXNTzvH"
   },
   "source": [
    "# <h1><center><font color = \"red\"><hr><b> Python 3.7 Class Notes </font></center></b></h1><hr>\n",
    "<br>\n",
    "\n"
   ]
  },
  {
   "cell_type": "markdown",
   "metadata": {
    "colab_type": "text",
    "id": "XW_hO9reTziP"
   },
   "source": [
    "\n",
    "\n",
    "\n",
    "# Contents\n",
    "\n",
    "\n",
    "\n",
    "1.   Introduction to Python\n",
    "2.   Features of Python\n",
    "\n",
    "1.   What is python used for? (Domain of python)\n",
    "2.   Installing and setting up Python\n",
    "\n",
    "1. Commenting in Python\n",
    "2. Primary data-types in Python\n",
    "\n",
    "\n",
    "\n"
   ]
  },
  {
   "cell_type": "markdown",
   "metadata": {
    "colab_type": "text",
    "id": "5WcPOarJMXJo"
   },
   "source": [
    "<br>\n",
    "<br>\n",
    "\n",
    "---\n",
    "## <b>Note from Author</b>\n",
    "---\n",
    "\n",
    "Hi! My name is [Saket Savarn](outcastdreamer.github.io/)!!<br>I am currently studying in my 3rd Year of B.Tech CSe at REVA University.\n",
    "The reason for me writing and documenting these Python Notes is to make it easier for me to provide the notes for the workshops and my internships where I teach Python frequently.<br>\n",
    "It also is for my reference purposes so that I can refer to all the concepts I have studied and also because it reinforces my python concepts as well.<br>\n",
    "Having said that I am pretty sure there will be bugs, grammatical errors, and few other kinds of errors here and there that I still need to verify and rectify. <br>\n",
    "In case you come across such bugs or errors feel free to email me at saketsavarn07@gmail.com and I will rectify them as soon as possible.\n",
    "<br>\n",
    "In the end I hope the notes are a useful resource to you and that my sessions where helpful in getting you started with python.<br>\n",
    "I am also sorry for the huge delay it takes me in updating these notes. As I said before, I am held busy by my multiple internships and workshops at a time and hence don't get the time to keep updating it, but I still try my best to update it whenever I get the time.\n",
    "<br>\n",
    "With all that done, I hope you keep learning!!<br>\n",
    "<br>\n",
    "<b><u>Contact Info + Me around the web</u> : </b>\n",
    "<ul><li><a href =\"https://www.instagram.com/outcast_dreamer/\">  Instagram or @outcast_dreamer </a></li>\n",
    "<li><a href=\"https://github.com/outcastdreamer\">Github Profile</a></li>\n",
    "<li><a href=\"\">saketsavarn07@gmail.com</a></li>\n",
    "<li><b>Phone no. : </b>7022836253</li>\n"
   ]
  },
  {
   "cell_type": "markdown",
   "metadata": {
    "colab_type": "text",
    "id": "h5xkN-TrU_1L"
   },
   "source": [
    "<br>\n",
    "<br>\n",
    "\n",
    "---\n",
    "## <b>1. Introduction to Python</b>\n",
    "---\n",
    "Python is an interpreted, high-level, general-purpose programming language. Created by Guido van Rossum and first released in 1991\n",
    "Python is dynamically typed and garbage-collected. It supports multiple programming paradigms, including procedural, object-oriented, and functional programming. Python is often described as a \"batteries included\" language due to its comprehensive standard library. <br>\n",
    "Python is considered both as a scripting and programming language by most developers as it has support of scripting language as well.\n",
    "The reason for considering it as a \"scripting language\" is because of the ease of coding, automation, deployment and various other reasons. The topic of whether python is a scripting language or just proramming language is hugely debated till now by developers.\n",
    "<br>\n",
    "<br>\n",
    "<u><h3>Keywords to go through in above definition : </h3></u>\n",
    "> **1. Interpreted Language :** Interpreted Language specifies that a language can be freely and directly be executed without the need of compiling the code. In case of python, when in *interpreter mode* , one can get the output then and there itself without the need of saving the file and then compiling it. This means even the errors are denoted then and there at that line only and it wll not wait till the completion of the code to tell all the errors in one go. One can go to interpreter by searching for \"python\" in windows search or typing it in cmd or terminal to directly enter it. In case of windows, if the *system environment variables* has been configured properly, you will see the python version and the prompt symbol \">>>\". <br>\n",
    "A \">>>\" (called 'python prompt') specifies an active line waiting for your command, while \"...\" specifies a continued line of code (in case of for loop, if-else, and basically any statements or code that is followed by a colon \":\").<br><br><br>\n",
    "**2. Dynamically typed language :** Dynamically typed language in layman language means that python doesn't statically limit the coder to one data type for any variable unlike in case of C,C++ or Java. <br><br>&nbsp;<b><u>Eg:</u></b> In case of C or C++ lang, if we declare : \n",
    ">\n",
    "> > #include <stdio.h><br>\n",
    "> > main() <br>\n",
    "> > { <br>\n",
    "> > &nbsp;&nbsp;&nbsp;&nbsp;&nbsp;&nbsp;&nbsp;int a; <br>\n",
    "> > &nbsp;&nbsp;&nbsp;&nbsp;&nbsp;&nbsp;&nbsp;a = \"hello\"; <br>\n",
    "> > } \n",
    ">\n",
    ">&nbsp;you cannot declare, a = \"hello\" or a = 1.2, as 'a' variable is only int &nbsp;type and it will give error. We can only declare 'a' as a = 79, for example or integer type.\n",
    "<br><br>But in case of python, we directly declare \"value\" and not the \"data-type\" because python by default understands the data-type based on the value you assigned to the variable. This also means you can change the data-type of the variable to any type. This is why python is called \"Dynamically typed\" and not \"statically typed\".\n",
    "<br><br>&nbsp;<b><u>Eg:</u></b>\n"
   ]
  },
  {
   "cell_type": "code",
   "execution_count": 2,
   "metadata": {
    "colab": {
     "base_uri": "https://localhost:8080/",
     "height": 73
    },
    "colab_type": "code",
    "id": "aPW8ggDb0LA6",
    "outputId": "efd59322-cc98-41b2-c842-1937bc1d246b"
   },
   "outputs": [
    {
     "name": "stdout",
     "output_type": "stream",
     "text": [
      "1\n",
      "Hello world!\n",
      "4.57\n"
     ]
    }
   ],
   "source": [
    "a = 1\n",
    "print (a)\n",
    "\n",
    "a= \"Hello world!\"\n",
    "print (a)\n",
    "\n",
    "a = 4.57\n",
    "print (a)"
   ]
  },
  {
   "cell_type": "markdown",
   "metadata": {
    "colab_type": "text",
    "id": "hJvmjd8-0iiu"
   },
   "source": [
    "> (I will be explaining \"print\" and how to declare variables in python in later stages of the notes, though it should be self explanatory for most of you.)<br> Here we can see that the value of variable 'a' is not declared specifically, we just declare the value, say a = 10. We don't say : <br>\n",
    ">\n",
    "> > int a = 10;&nbsp;&nbsp;&nbsp;&nbsp;&nbsp;&nbsp;&nbsp;&nbsp;&nbsp;//C or C++ example\n",
    ">\n",
    "> We can also observe from the above code snippet that the value of a could be overwritten to any data type. Be it string, integer or float.\n",
    "<br>\n",
    "<br>\n",
    "<br>\n",
    "**3. Garbage-collected language :** Garbage collection (GC) is a form of automatic memory management. The garbage collector, or just collector, attempts to reclaim garbage, or memory occupied by objects that are no longer in use by the program and clears them without need of the programmer to do so on their own.  \n",
    "<br>\n",
    "<br>\n",
    "**4. Functional programming language :** Functional programming language is most of the time built on Object-oriented programming and allows one to use functions to reduce the need of coding, in their place by using functions. Here these functions are imported using libraries or modules by python which are basically classes which have these functions which act like objects.<br><br> For example, we have functions for string data-type where-in string data-type also acts like a class/module/library and offers functions like lower(), upper(), join(), etc {More about this later}.\n",
    "\n",
    "\n"
   ]
  },
  {
   "cell_type": "markdown",
   "metadata": {
    "colab_type": "text",
    "id": "ueYSKALK14-m"
   },
   "source": [
    "<br>\n",
    "<br>\n",
    "\n",
    "---\n",
    "## <b>2. Features of Python</b>\n",
    "\n",
    "---\n",
    "1. Human-friendly code readibility and understanding.\n",
    "2. Easier to code with due to availability of \"Functional-programming\".\n",
    "1. Vast number of libraries and modules that reduce the amount of coding needed to be done drastically.\n",
    "2. Easy to work with in many domains of computer science.\n",
    "1. Can be deployed across various platforms and OS.\n",
    "2. Very simple and easy to learn even for beginners.\n",
    "1. Free and open-source language that is easy to install, set-up and get started with.\n",
    "2. It can be integrated with other languages such as C,C++ and Java. See [Cython](https://cython.org/), [Jython](https://www.jython.org/), etc."
   ]
  },
  {
   "cell_type": "markdown",
   "metadata": {
    "colab_type": "text",
    "id": "4HjaQH_3JUzU"
   },
   "source": [
    "<br>\n",
    "<br>\n",
    "\n",
    "---\n",
    "## <b>3. Domains of Python</b>\n",
    "\n",
    "---\n",
    "1. Python is used for making desktop applications using GUI programming for various OS like windows, linux, mac, etc. At times the front-end is made using languages like JAVA while back-end is made using python as JAVA is easier to use for making GUI or front-end while python is good for back-end.\n",
    "2. It is used in the trending topics like Machine learning, artificial intelligence and deep learning. This is because any developer can install and import modules/libraries with all the machine learning algorithms already provided in them which can be used as functions (aspect of \"functional prog.\") hence all we need to do is provide the relevant datasets and information and train it by invoking the functions. Python supports all domains of ML, AI and DL like image processing, Natural Language Processing (NLP), chat bots, etc.\n",
    "3. It's used by scientists in scientific researches (like by NASA scientists for space exploration,SUPER Computers, etc).\n",
    "4. It's used for web-developement in back-end using modules like Flask and django.\n",
    "5. It's used in various scripts in hacking and cyber security such as tracking sub-domains of websites, DDOS attacking, etc.\n",
    "6. It's used in data-mining, web scrapping, to download data in back-ed in bulk.\n",
    "7. It's used in data-visualization for busiess analytics, etc.\n",
    "8. It's used for automation of various tasks such as automated data-mining or automated sub-domain tracking,etc.\n",
    "9. It's also used rarely for game and mobile app developement.\n",
    "10. It's used in embedded systems like Rasberry pi, etc. for IoT (Internet of Things) products.\n",
    "11. Many other domains like open-source projects, APIs, extensions, plugins construction and deployment, etc.\n",
    "12. It also has applications in cloud computing, blockchain and many buisness enterprises.\n"
   ]
  },
  {
   "cell_type": "markdown",
   "metadata": {
    "colab_type": "text",
    "id": "-U6nrCgKQ7R1"
   },
   "source": [
    "<br>\n",
    "<br>\n",
    "\n",
    "---\n",
    "## <b>4. Installing and setting-up python</b>\n",
    "\n",
    "---\n",
    "First things first, make sure that you are sure about your system/laptop configurations. If you are on windows check so on by searching (Win key + s) \"system information\".\n",
    "<br> If you have x64 based system then click on the following -> [link](https://www.python.org/ftp/python/3.7.4/python-3.7.4-amd64.exe).\n",
    "<br> If you have x32 based system then click on the following -> [link](https://www.python.org/ftp/python/3.7.4/python-3.7.4.exe).\n",
    "<br> The links above will download Python 3.7.4 which is the latest as of the time of writing this. (17th Oct, 2019).\n",
    "In case you want to download or check for newer updates you can go to www.python.org and check for the same.\n",
    "\n",
    "While installing make sure <b>\"Add to path\"</b> option is selected so that your python is added to the \"system environment variables\" which basically consists of path to tell the cmd where the applications are stored so that you can use it via your cmd or terminal.<br> \n",
    "<b>(Note : </b> Make sure that you don't have any other versions of python installed when choosing \"Add to Path\" option or there might be clash between the other versions of python which are already installed with this one.)<br><br>\n",
    "After installation of python, open cmd (win key + r, and then type in cmd) and type in python (make sure it's all lowercase).\n",
    "\n",
    "Similarly, I would suggest installing [Sublime Text Editor 3](https://www.sublimetext.com/3) as your editor and try to avoid installing Pycharm and such IDEs as they hamper growth by telling error beforehand hence stopping learning through mistakes and debugging for beginners. You can also set sublime to work from cmd by adding its installation path to environment variables and using the keyterm \"subl\" to run it from cmd.\n",
    "\n",
    "In-case it says \"python not found\" in cmd, follow this [tutorial](https://www.youtube.com/watch?v=Y2q_b4ugPWk) to set-up environment variables.\n",
    "\n",
    "\n"
   ]
  },
  {
   "cell_type": "markdown",
   "metadata": {
    "colab_type": "text",
    "id": "AvRgjwfUHYKX"
   },
   "source": [
    "<br>\n",
    "<br>\n",
    "\n",
    "---\n",
    "## <b>5. Commenting in python</b>\n",
    "---\n",
    "\n",
    "Comments are used for adding personal instructions or lines that the compiler or interpreter ignores. This allows the developer to add lines to further explain his/her code to other developers who might go through your code later or even allow the creator to remember what a specific region of code did.\n",
    "\n",
    "#### <u>Why commenting is important : </u>\n",
    "* Sometimes you have projects spanning with over 100 to thousands of lines of codes. One person can't possibly remember what a specific region of code does in thousands line of codes and hence adding comments allows one to understand the context of the code.\n",
    "* It's a crucial part of documentation and is evident in many open source projects, etc that you will find online.\n",
    "* It allows other coders going through your code to understand your code better as everyone has different coding style. It's important if you are working on a project with a team.\n",
    "<br>\n",
    "The best code practice is when your code is readiable from the get go though, without the need of explaining.\n",
    "\n"
   ]
  },
  {
   "cell_type": "markdown",
   "metadata": {
    "colab_type": "text",
    "id": "FSgGR4MLGsag"
   },
   "source": [
    "#### <u> a.) Single line commenting in python: </u><br>\n",
    "We use Hash<code>(#)</code> symbol while commenting in single line in python. This is handy if we want to comment a specific line of the code to disable it and see how the output of the code works. Eg : "
   ]
  },
  {
   "cell_type": "code",
   "execution_count": 3,
   "metadata": {
    "colab": {
     "base_uri": "https://localhost:8080/",
     "height": 54
    },
    "colab_type": "code",
    "id": "RTj1x_bKVycX",
    "outputId": "70bdea20-5acf-4e70-f44b-7acb37d70347"
   },
   "outputs": [
    {
     "name": "stdout",
     "output_type": "stream",
     "text": [
      "This statement will get printed\n",
      "Value of a is :  2\n"
     ]
    }
   ],
   "source": [
    "#Example of single line commenting in python\n",
    "\n",
    "a = 2\n",
    "b = 4\n",
    "print (\"This statement will get printed\")  #This statement won't be displayed or get printed as it is a comment\n",
    "print (\"Value of a is : \",a)\n",
    "#print (b) \n",
    "#the above line is a comment just as this line. Try uncommenting by removing the hash (#) before print (b) statement.\n"
   ]
  },
  {
   "cell_type": "markdown",
   "metadata": {
    "colab_type": "text",
    "id": "225O33LkW-6z"
   },
   "source": [
    "####<u>b.) Multi-line commenting in python</u> :\n",
    "<br>Mutli-line commenting means commenting multiple lines in one go. This is useful when you want to comment out a whole specific block of codes (multiple code statements) unlike just one or two statements. For example you can comment out a whole for loop if you think it's causing errors in your code and see if your code works with it or without it.<br><br>\n",
    "You can do multi-line commenting in python using triple quotes <code>\"\"\".</code>Just type everything inside the triple quotes and enclose it by them.\n",
    "<br>\n",
    "<br>\n",
    "Eg : \n",
    "  \n",
    "\n"
   ]
  },
  {
   "cell_type": "code",
   "execution_count": 4,
   "metadata": {
    "colab": {
     "base_uri": "https://localhost:8080/",
     "height": 36
    },
    "colab_type": "code",
    "id": "WOReqTRHVMvM",
    "outputId": "ad602f42-ab01-47e8-92b0-8cd7204b60e1"
   },
   "outputs": [
    {
     "name": "stdout",
     "output_type": "stream",
     "text": [
      "This is not a comment\n"
     ]
    }
   ],
   "source": [
    "#Example of Multi-line commenting in python\n",
    "\n",
    "#This is a single line comment using hash (#)\n",
    "\"\"\"\n",
    "Look this is the first line.\n",
    "The second line.\n",
    "The third line.\n",
    "And all these lines are comments. The below code won't be executed : \n",
    "a = 2\n",
    "print (a)\n",
    "\"\"\"\n",
    "\n",
    "print (\"This is not a comment\")"
   ]
  },
  {
   "cell_type": "markdown",
   "metadata": {
    "colab_type": "text",
    "id": "IdIhEfrziZRf"
   },
   "source": [
    "<br>\n",
    "<br>\n",
    "\n",
    "---\n",
    "## <b>6. Primary data types in python</b>\n",
    "---\n",
    "There are two types of data-types in python in terms of layman language. \n",
    "1. Primary Data type\n",
    "2. Secondary Data type or Container Data type\n",
    "\n",
    "**Primary Data type :** <br>&nbsp;&nbsp;&nbsp;&nbsp;&nbsp;\n",
    "It consists of the following data types :\n",
    "* Int or Integer (Denoted by %d as a placeholder)\n",
    "* Float or decimal numbers (Denoted by %f as  a placeholder)\n",
    "* String (Denoted by %s as a placeholder)\n",
    "* None data type\n",
    "* Boolean data type (Denoted by True/1 or False/0 as reserved keywords)<br>\n",
    "<br>\n",
    "\n",
    "**Secondary Data type :**\n",
    "It contains primary data types (the ones mentioned above) as it's elements or values, basically they are container data types that consist of various primary data type values stored in them which allows us to store multiple values of any data type and assign to just one variable. This reduces of stating multiple variables for similar values.\n",
    "* Lists (Arrays variation of C and C++ Lang for python)\n",
    "* Tuples (Basically immutable python lists)\n",
    "* Sets\n",
    "* Dictionaries (Comsists of keys mapped to values, unordered (don't follow any order such as index, keys&Values can be in any order)\n",
    "* Collections (ordered dictionaries)\n",
    "* Numpy, etc (Numerical arrays for scientific and machine learning projects)\n",
    "\n",
    "\n",
    "&nbsp;&nbsp;&nbsp;&nbsp;&nbsp; All these data types have unlimited memory allocation (which implies it depends on one's PC memory limits, this also means you don't need to assign size of array, string, etc like in case of C/C++ as python has unlimited memory allocation and also automated garbage collector which works hand in hand with dynamic typing.) Unlike in C/C++ where you initialize strings as : <br>\n",
    "> char a[10];\n",
    "\n",
    "<br>You can just declare, a = \"hello\" or <br>a = \"This sentence can be as long as you want without the need of declaring the number of characters in it, really you can stretch it as long as you want it to.\"\n",
    "<br><br>\n",
    "Here all the data types except int and float are also treated classes/modules/libraries because int and float data types are only meant to be used for mathematical operations like addtion, subraction, etc.\n",
    "<br><br>"
   ]
  },
  {
   "cell_type": "markdown",
   "metadata": {
    "colab_type": "text",
    "id": "xz_9b07UDVoP"
   },
   "source": [
    "<hr><br>\n",
    "\n",
    "### <u>**a.) Integer Data type (int)**</u><br>\n",
    "<u>*Declaring int value :*</u><br>\n",
    "We use '=' as the assignment operator which assigns values to the variable.<br> \n",
    "<code>\n",
    "a = 1<br>\n",
    "b = 2<br>\n",
    "a = 1; b = 2<br>\n",
    "a, b = 1, 2 <br>\n",
    "</code>All work. Here 'a' & 'b' are variables holding the values 1 and 2 throughout the whole example. You can use semi-colons like in C/C++ to seperate variables and statements but I wouldn't suggest to use them everywhere also keep in mind, if you do a,b = 1,2,3 you will get error as python expects at least 3 variables in this case, so you would have to do a,b,c = 1,2,3.<br><br>**Note :** By the way, these declaration methods work for float, strings, and all other various data types. <br>\n",
    "<br><u>*Working with integers :*</u><br>\n",
    "Before working with integers you need to know what are operators and their uses. You must have used them in maths before (if you haven't, what are you doing in your life anyway :v)\n",
    "\n",
    "<br>\n",
    "\n",
    "\n"
   ]
  },
  {
   "cell_type": "markdown",
   "metadata": {
    "colab_type": "text",
    "id": "1gCnhTNqEQvt"
   },
   "source": [
    "\n",
    "#### Operators in python :\n",
    "* Addtion (+)\n",
    "* Subraction (-)\n",
    "* Multiplication (<b>*</b>)\n",
    "* Division (/) {Gives float value as quotient}\n",
    "* Double Division (//) {Gives int value as quotient}\n",
    "* Modulus (%) {Returns remainder}\n",
    "* Expotential (<b>**</b>) {Returns the raised to power of a number}\n",
    "\n",
    "<br>"
   ]
  },
  {
   "cell_type": "markdown",
   "metadata": {
    "colab_type": "text",
    "id": "Rijc102SEHp0"
   },
   "source": [
    "<hr><br>\n",
    "\n",
    "####<u> **i.) Addition operator : '+'**</u> &nbsp;&nbsp;<br>\n",
    "(Adds two or more numbers)<br><br>\n",
    "&nbsp;&nbsp;&nbsp;&nbsp;&nbsp;&nbsp;&nbsp;&nbsp;&nbsp;&nbsp;&nbsp;&nbsp;&nbsp;&nbsp;&nbsp;&nbsp;&nbsp;&nbsp;&nbsp;&nbsp;&nbsp;&nbsp;&nbsp;&nbsp;&nbsp;&nbsp;&nbsp;Eg : >>> a = 1; b = 2; c = a+b+2\n",
    "<br>\n",
    "&nbsp;&nbsp;&nbsp;&nbsp;&nbsp;&nbsp;&nbsp;&nbsp;&nbsp;&nbsp;&nbsp;&nbsp;&nbsp;&nbsp;&nbsp;&nbsp;&nbsp;&nbsp;&nbsp;&nbsp;&nbsp;&nbsp;&nbsp;&nbsp;&nbsp;&nbsp;&nbsp;&nbsp;&nbsp;&nbsp;&nbsp;&nbsp;&nbsp;&nbsp;&nbsp;>>> print (c)\n",
    "<br>\n",
    "&nbsp;&nbsp;&nbsp;&nbsp;&nbsp;&nbsp;&nbsp;&nbsp;&nbsp;&nbsp;&nbsp;&nbsp;&nbsp;&nbsp;&nbsp;&nbsp;&nbsp;&nbsp;&nbsp;&nbsp;&nbsp;&nbsp;&nbsp;&nbsp;&nbsp;&nbsp;&nbsp;&nbsp;&nbsp;&nbsp;&nbsp;&nbsp;&nbsp;&nbsp;#(Answer will be 5)\n",
    "<br>\n",
    "&nbsp;&nbsp;&nbsp;&nbsp;&nbsp;&nbsp;&nbsp;&nbsp;&nbsp;&nbsp;&nbsp;&nbsp;&nbsp;&nbsp;&nbsp;&nbsp;&nbsp;&nbsp;&nbsp;&nbsp;&nbsp;&nbsp;&nbsp;&nbsp;&nbsp;&nbsp;&nbsp;&nbsp;&nbsp;&nbsp;&nbsp;&nbsp;&nbsp;&nbsp;&nbsp;>>> c + = 1 \n",
    "<br>\n",
    "&nbsp;&nbsp;&nbsp;&nbsp;&nbsp;&nbsp;&nbsp;&nbsp;&nbsp;&nbsp;&nbsp;&nbsp;&nbsp;&nbsp;&nbsp;&nbsp;&nbsp;&nbsp;&nbsp;&nbsp;&nbsp;&nbsp;&nbsp;&nbsp;&nbsp;&nbsp;&nbsp;&nbsp;&nbsp;&nbsp;&nbsp;&nbsp;&nbsp;&nbsp;&nbsp;>>> print (c)\n",
    "<br>\n",
    "&nbsp;&nbsp;&nbsp;&nbsp;&nbsp;&nbsp;&nbsp;&nbsp;&nbsp;&nbsp;&nbsp;&nbsp;&nbsp;&nbsp;&nbsp;&nbsp;&nbsp;&nbsp;&nbsp;&nbsp;&nbsp;&nbsp;&nbsp;&nbsp;&nbsp;&nbsp;&nbsp;&nbsp;&nbsp;&nbsp;&nbsp;&nbsp;&nbsp;&nbsp;&nbsp;#(Answer will be 6 now)\n",
    "<br>\n",
    "&nbsp;&nbsp;&nbsp;&nbsp;&nbsp;&nbsp;&nbsp;&nbsp;&nbsp;&nbsp;&nbsp;&nbsp;&nbsp;c + = 1 is equaivalent to c = c + 1 (since c = a+b+2 was equal to c = 5, c + = 1 implies,<br>&nbsp;&nbsp;&nbsp;&nbsp;&nbsp;&nbsp;&nbsp;&nbsp;&nbsp;&nbsp;&nbsp;&nbsp;&nbsp;c = c + 1, which in turn implies, c = 5 + 1, c = 6)\n",
    "<br>\n",
    "\n",
    "&nbsp;&nbsp;&nbsp;&nbsp;&nbsp;&nbsp;&nbsp;&nbsp;&nbsp;&nbsp;&nbsp;&nbsp;&nbsp;**Note :** In python pre-increment or post-increment like in case of C/C++ doesn't exist, therefore we cannot use a++ or ++a, but we can use a+=1.\n",
    "<br><br>"
   ]
  },
  {
   "cell_type": "code",
   "execution_count": 5,
   "metadata": {
    "colab": {
     "base_uri": "https://localhost:8080/",
     "height": 73
    },
    "colab_type": "code",
    "id": "NktDS2b8bJcE",
    "outputId": "15a5efac-99b4-4317-81ee-d8ec9ae39ee8"
   },
   "outputs": [
    {
     "name": "stdout",
     "output_type": "stream",
     "text": [
      "Initial value of c :  5\n",
      "Updated value of c :  6\n",
      "The new updated value of c is :  8\n"
     ]
    }
   ],
   "source": [
    "#Addtion Example (+)\n",
    "\n",
    "a = 1; b = 2; c = a+b+2\n",
    "print (\"Initial value of c : \",c)\n",
    "c+=1\n",
    "print (\"Updated value of c : \",c)\n",
    "c+= 2\n",
    "print (\"The new updated value of c is : \",c) "
   ]
  },
  {
   "cell_type": "markdown",
   "metadata": {
    "colab_type": "text",
    "id": "Clr7iBCba-aS"
   },
   "source": [
    "<b>----------------------------------------------------------------------------------------------------------------------------------------------</b>\n",
    "####<u> **ii.) Subraction Operator : '-'**</u> \n",
    "(Subracts two or more numbers)</u>\n",
    "<br><br>\n",
    "&nbsp;&nbsp;&nbsp;&nbsp;&nbsp;&nbsp;&nbsp;&nbsp;&nbsp;&nbsp;&nbsp;&nbsp;&nbsp;&nbsp;&nbsp;&nbsp;&nbsp;&nbsp;&nbsp;&nbsp;&nbsp;&nbsp;&nbsp;&nbsp;&nbsp;&nbsp;&nbsp;&nbsp;&nbsp;&nbsp;&nbsp;Eg : >>> a = 5; b = 7; b - = 1; a = a - b;\n",
    "<br>\n",
    "&nbsp;&nbsp;&nbsp;&nbsp;&nbsp;&nbsp;&nbsp;&nbsp;&nbsp;&nbsp;&nbsp;&nbsp;&nbsp;&nbsp;&nbsp;&nbsp;&nbsp;&nbsp;&nbsp;&nbsp;&nbsp;&nbsp;&nbsp;&nbsp;&nbsp;&nbsp;&nbsp;&nbsp;&nbsp;&nbsp;&nbsp;&nbsp;&nbsp;&nbsp;&nbsp;&nbsp;&nbsp;&nbsp;>>> print (a)\n",
    "<br> &nbsp;&nbsp;&nbsp;&nbsp;&nbsp;&nbsp;&nbsp;&nbsp;&nbsp;&nbsp;&nbsp;&nbsp;&nbsp;&nbsp;&nbsp;&nbsp;&nbsp;&nbsp;&nbsp;&nbsp;&nbsp;&nbsp;&nbsp;&nbsp;&nbsp;&nbsp;&nbsp;&nbsp;&nbsp;&nbsp;&nbsp;&nbsp;&nbsp;&nbsp;&nbsp;&nbsp;&nbsp;&nbsp;(Answer is -1)<br>&nbsp;&nbsp;&nbsp;&nbsp;&nbsp;&nbsp;&nbsp;&nbsp;&nbsp;&nbsp;&nbsp;&nbsp;&nbsp;&nbsp;&nbsp;&nbsp;&nbsp;&nbsp;&nbsp;&nbsp;&nbsp;&nbsp;&nbsp;&nbsp;&nbsp;&nbsp;&nbsp;&nbsp;&nbsp;&nbsp;&nbsp;&nbsp;&nbsp;&nbsp;&nbsp;&nbsp;&nbsp;&nbsp; As b - = 1 => b = 7 - 1 => 6, and then a = a - b => a = 5 - 6 = -1<br>&nbsp;&nbsp;&nbsp;&nbsp;&nbsp;&nbsp;&nbsp;&nbsp;&nbsp;&nbsp;&nbsp;&nbsp;&nbsp;&nbsp;&nbsp;&nbsp;&nbsp;&nbsp;&nbsp;&nbsp;&nbsp;&nbsp;&nbsp;&nbsp;&nbsp;&nbsp;&nbsp;&nbsp;&nbsp;&nbsp;&nbsp;&nbsp;&nbsp;&nbsp;&nbsp;&nbsp;&nbsp;&nbsp; orrrrrrrr <br>&nbsp;&nbsp;&nbsp;&nbsp;&nbsp;&nbsp;&nbsp;&nbsp;&nbsp;&nbsp;&nbsp;&nbsp;&nbsp;&nbsp;&nbsp;&nbsp;&nbsp;&nbsp;&nbsp;&nbsp;&nbsp;&nbsp;&nbsp;&nbsp;&nbsp;&nbsp;&nbsp;&nbsp;&nbsp;&nbsp;&nbsp;&nbsp;&nbsp;&nbsp;&nbsp;&nbsp;&nbsp;&nbsp; just do the maths bruh.\n",
    "<br>\n",
    "<br>\n"
   ]
  },
  {
   "cell_type": "code",
   "execution_count": 6,
   "metadata": {
    "colab": {
     "base_uri": "https://localhost:8080/",
     "height": 36
    },
    "colab_type": "code",
    "id": "NnBcaGtCl6TU",
    "outputId": "8d7d19ea-fc76-41c9-8c74-2e892d645015"
   },
   "outputs": [
    {
     "name": "stdout",
     "output_type": "stream",
     "text": [
      "The value of a is :  -1\n"
     ]
    }
   ],
   "source": [
    "#Subraction (-)\n",
    "a, b = 5, 7   #Here a=5,b=7\n",
    "b-=1  \n",
    "\"\"\"Sometimes, running the same command such as : b - = 1 (just added spaces in the same statement) causes errors. \n",
    "So we cannot use spaces everywhere.\"\"\"\n",
    "a = a - b;\n",
    "print (\"The value of a is : \",a)"
   ]
  },
  {
   "cell_type": "markdown",
   "metadata": {
    "colab_type": "text",
    "id": "Lucm3D11m7G5"
   },
   "source": [
    "<b>----------------------------------------------------------------------------------------------------------------------------------------------</b>\n",
    "#### **<u>iii.) Mutiplication Operator : '<b>*</b>'**</u>\n",
    " (Multiplies two or more numbers)\n",
    "<br><br>\n",
    "&nbsp;&nbsp;&nbsp;&nbsp;&nbsp;&nbsp;&nbsp;&nbsp;&nbsp;&nbsp;&nbsp;&nbsp;&nbsp;&nbsp;&nbsp;&nbsp;&nbsp;&nbsp;&nbsp;&nbsp;&nbsp;&nbsp;&nbsp;&nbsp;&nbsp;&nbsp;&nbsp;&nbsp;&nbsp;&nbsp;&nbsp;Eg : >>> a = 5; b = 7;  c = a * b;\n",
    "<br>\n",
    "&nbsp;&nbsp;&nbsp;&nbsp;&nbsp;&nbsp;&nbsp;&nbsp;&nbsp;&nbsp;&nbsp;&nbsp;&nbsp;&nbsp;&nbsp;&nbsp;&nbsp;&nbsp;&nbsp;&nbsp;&nbsp;&nbsp;&nbsp;&nbsp;&nbsp;&nbsp;&nbsp;&nbsp;&nbsp;&nbsp;&nbsp;&nbsp;&nbsp;&nbsp;&nbsp;&nbsp;&nbsp;&nbsp;>>> print (c)\n",
    "<br> &nbsp;&nbsp;&nbsp;&nbsp;&nbsp;&nbsp;&nbsp;&nbsp;&nbsp;&nbsp;&nbsp;&nbsp;&nbsp;&nbsp;&nbsp;&nbsp;&nbsp;&nbsp;&nbsp;&nbsp;&nbsp;&nbsp;&nbsp;&nbsp;&nbsp;&nbsp;&nbsp;&nbsp;&nbsp;&nbsp;&nbsp;&nbsp;&nbsp;&nbsp;&nbsp;&nbsp;&nbsp;&nbsp;(Answer is 35)\n",
    "<br>\n",
    "<br>\n"
   ]
  },
  {
   "cell_type": "code",
   "execution_count": 7,
   "metadata": {
    "colab": {
     "base_uri": "https://localhost:8080/",
     "height": 36
    },
    "colab_type": "code",
    "id": "OeDYUrLVnAsg",
    "outputId": "649997de-9493-4021-ae12-6e971a198724"
   },
   "outputs": [
    {
     "name": "stdout",
     "output_type": "stream",
     "text": [
      "35\n"
     ]
    }
   ],
   "source": [
    "#Multiplication (*)\n",
    "a = 5; b = 7; c = a * b;\n",
    "print (c)"
   ]
  },
  {
   "cell_type": "markdown",
   "metadata": {
    "colab_type": "text",
    "id": "e66zu3IunBL7"
   },
   "source": [
    "\n",
    "<b>----------------------------------------------------------------------------------------------------------------------------------------------</b>\n",
    "####**<u>iv.) Division Operator : '<b>/</b>'**</u>\n",
    " (Divides two or more numbers)\n",
    "<br><br>\n",
    "&nbsp;&nbsp;&nbsp;&nbsp;&nbsp;&nbsp;&nbsp;&nbsp;&nbsp;&nbsp;&nbsp;&nbsp;&nbsp;&nbsp;&nbsp;&nbsp;&nbsp;&nbsp;&nbsp;&nbsp;&nbsp;&nbsp;&nbsp;&nbsp;&nbsp;&nbsp;&nbsp;&nbsp;&nbsp;&nbsp;&nbsp;<code>Eg : >>> a = 15 ; b = 5 ;  c = 2 ; d = 150 ; e = a/b ; f = a/c ; g = a/d</code>\n",
    "<br>\n",
    "&nbsp;&nbsp;&nbsp;&nbsp;&nbsp;&nbsp;&nbsp;&nbsp;&nbsp;&nbsp;&nbsp;&nbsp;&nbsp;&nbsp;&nbsp;&nbsp;&nbsp;&nbsp;&nbsp;&nbsp;&nbsp;&nbsp;&nbsp;&nbsp;&nbsp;&nbsp;&nbsp;&nbsp;&nbsp;&nbsp;&nbsp;&nbsp;&nbsp;&nbsp;&nbsp;&nbsp;&nbsp;&nbsp;>>> print (e,\" and \",f,\" and \",g)\n",
    "<br> &nbsp;&nbsp;&nbsp;&nbsp;&nbsp;&nbsp;&nbsp;&nbsp;&nbsp;&nbsp;&nbsp;&nbsp;&nbsp;&nbsp;&nbsp;&nbsp;&nbsp;&nbsp;&nbsp;&nbsp;&nbsp;&nbsp;&nbsp;&nbsp;&nbsp;&nbsp;&nbsp;&nbsp;&nbsp;&nbsp;&nbsp;&nbsp;&nbsp;&nbsp;&nbsp;&nbsp;&nbsp;&nbsp;(Answer is 3.0 and 7.5 and 0.1)\n",
    "<br>\n",
    "\n",
    "&nbsp;&nbsp;&nbsp;&nbsp;&nbsp;&nbsp;&nbsp;&nbsp;&nbsp;&nbsp;&nbsp;&nbsp;&nbsp;**Note :** Notice how the output is 3.0 and not 3, this shows just using a single / returns float value as quotient even if the output is completely divisible like in case of 15/5. Also notice how 15/150 is 0.1\n",
    "<br>\n",
    "<br>\n"
   ]
  },
  {
   "cell_type": "code",
   "execution_count": 8,
   "metadata": {
    "colab": {
     "base_uri": "https://localhost:8080/",
     "height": 36
    },
    "colab_type": "code",
    "id": "dvsxveI1nYrD",
    "outputId": "70e234ad-6658-441a-b490-a9f5d7e81d1d"
   },
   "outputs": [
    {
     "name": "stdout",
     "output_type": "stream",
     "text": [
      "Value of e is : 3.0 ,and of f is : 7.5 ,while of g is : 0.1\n"
     ]
    }
   ],
   "source": [
    "#Division (/)\n",
    "a = 15; \n",
    "b = 5  \n",
    "c = 2  \n",
    "d = 150  \n",
    "e = a/b; \n",
    "f = a/c ; \n",
    "g = a/d\n",
    "print (\"Value of e is :\",e,\",and of f is :\",f,\",while of g is :\",g) #Compare this to output of below code block of double division operator"
   ]
  },
  {
   "cell_type": "markdown",
   "metadata": {
    "colab_type": "text",
    "id": "vOT3zffanZRI"
   },
   "source": [
    "\n",
    "<b>----------------------------------------------------------------------------------------------------------------------------------------------</b>\n",
    "####<u>**v.) Double division Operator : '<b>//</b>'**</u>\n",
    " (Divides two or more numbers but returns integer quotient instead of a float quotient)\n",
    "<br></u> <br>\n",
    "&nbsp;&nbsp;&nbsp;&nbsp;&nbsp;&nbsp;&nbsp;&nbsp;&nbsp;&nbsp;&nbsp;&nbsp;&nbsp;&nbsp;&nbsp;&nbsp;&nbsp;&nbsp;&nbsp;&nbsp;&nbsp;&nbsp;&nbsp;&nbsp;&nbsp;&nbsp;&nbsp;&nbsp;&nbsp;&nbsp;&nbsp;Eg : >>> a = 15; b = 5;   c = 2; d = 150; e = a//b; f = a//c; g = a//d\n",
    "<br>\n",
    "&nbsp;&nbsp;&nbsp;&nbsp;&nbsp;&nbsp;&nbsp;&nbsp;&nbsp;&nbsp;&nbsp;&nbsp;&nbsp;&nbsp;&nbsp;&nbsp;&nbsp;&nbsp;&nbsp;&nbsp;&nbsp;&nbsp;&nbsp;&nbsp;&nbsp;&nbsp;&nbsp;&nbsp;&nbsp;&nbsp;&nbsp;&nbsp;&nbsp;&nbsp;&nbsp;&nbsp;&nbsp;&nbsp;>>> print (e,\" and \",f,\" and \",g)\n",
    "<br> &nbsp;&nbsp;&nbsp;&nbsp;&nbsp;&nbsp;&nbsp;&nbsp;&nbsp;&nbsp;&nbsp;&nbsp;&nbsp;&nbsp;&nbsp;&nbsp;&nbsp;&nbsp;&nbsp;&nbsp;&nbsp;&nbsp;&nbsp;&nbsp;&nbsp;&nbsp;&nbsp;&nbsp;&nbsp;&nbsp;&nbsp;&nbsp;&nbsp;&nbsp;&nbsp;&nbsp;&nbsp;&nbsp;(Answer is 3 and 7 and 0)\n",
    "<br>\n",
    "\n",
    "&nbsp;&nbsp;&nbsp;&nbsp;&nbsp;&nbsp;&nbsp;&nbsp;&nbsp;&nbsp;&nbsp;&nbsp;&nbsp;**Note :** Notice how the output is 3 and not 3.0, this shows the output while using // is always int. We can observe the same for 15//2 which returns 7 and doesn't return the correct answer which is 7.5, hence it will ignore any value past decimal as in case of 15//150 which just returns 0 as quotient.\n",
    "<br>\n",
    "<br>\n"
   ]
  },
  {
   "cell_type": "code",
   "execution_count": 9,
   "metadata": {
    "colab": {
     "base_uri": "https://localhost:8080/",
     "height": 36
    },
    "colab_type": "code",
    "id": "xQbN7gRhoG7h",
    "outputId": "c430525c-36c6-406f-8c61-2329f6e7eaa4"
   },
   "outputs": [
    {
     "name": "stdout",
     "output_type": "stream",
     "text": [
      "Value of e is : 3 ,and of f is : 7 ,while of g is : 0\n"
     ]
    }
   ],
   "source": [
    "#Double-division (//)\n",
    "a = 15; b = 5; \n",
    "c = 2; d = 150\n",
    "e = a//b; \n",
    "f = a//c; \n",
    "g = a//d\n",
    "print (\"Value of e is :\",e,\",and of f is :\",f,\",while of g is :\",g) #Compare this to above code block output of division operator."
   ]
  },
  {
   "cell_type": "markdown",
   "metadata": {
    "colab_type": "text",
    "id": "hw02DYc-oIjt"
   },
   "source": [
    "\n",
    "<b>----------------------------------------------------------------------------------------------------------------------------------------------</b>\n",
    "####<u>**vi.) Modulus Operator : '<b>%</b>'**</u>\n",
    " (Divides two or more numbers)\n",
    "<br><br>\n",
    "&nbsp;&nbsp;&nbsp;&nbsp;&nbsp;&nbsp;&nbsp;&nbsp;&nbsp;&nbsp;&nbsp;&nbsp;&nbsp;&nbsp;&nbsp;&nbsp;&nbsp;&nbsp;&nbsp;&nbsp;&nbsp;&nbsp;&nbsp;&nbsp;&nbsp;&nbsp;&nbsp;&nbsp;&nbsp;&nbsp;&nbsp;Eg : >>> a = 15; b = 5;   c = 2; d = a%b; e=a%c\n",
    "<br>\n",
    "&nbsp;&nbsp;&nbsp;&nbsp;&nbsp;&nbsp;&nbsp;&nbsp;&nbsp;&nbsp;&nbsp;&nbsp;&nbsp;&nbsp;&nbsp;&nbsp;&nbsp;&nbsp;&nbsp;&nbsp;&nbsp;&nbsp;&nbsp;&nbsp;&nbsp;&nbsp;&nbsp;&nbsp;&nbsp;&nbsp;&nbsp;&nbsp;&nbsp;&nbsp;&nbsp;&nbsp;&nbsp;&nbsp;>>> print (d,\" and \",e)\n",
    "<br> &nbsp;&nbsp;&nbsp;&nbsp;&nbsp;&nbsp;&nbsp;&nbsp;&nbsp;&nbsp;&nbsp;&nbsp;&nbsp;&nbsp;&nbsp;&nbsp;&nbsp;&nbsp;&nbsp;&nbsp;&nbsp;&nbsp;&nbsp;&nbsp;&nbsp;&nbsp;&nbsp;&nbsp;&nbsp;&nbsp;&nbsp;&nbsp;&nbsp;&nbsp;&nbsp;&nbsp;&nbsp;&nbsp;(Answer is 0 and 1, as the remainder for 15//5 is 0 and for 15//2 is 1)\n",
    "<br>\n",
    "<br>\n"
   ]
  },
  {
   "cell_type": "code",
   "execution_count": 10,
   "metadata": {
    "colab": {
     "base_uri": "https://localhost:8080/",
     "height": 54
    },
    "colab_type": "code",
    "id": "h0C27k3qp4FA",
    "outputId": "fbf572fe-8b5f-450e-ec58-dadd38d31668"
   },
   "outputs": [
    {
     "name": "stdout",
     "output_type": "stream",
     "text": [
      "Value of d is : 0 \n",
      "and value of e is: 1\n"
     ]
    }
   ],
   "source": [
    "#Modulus (%)\n",
    "a = 15; b = 5; c = 2; \n",
    "d = a%b; e=a%c\n",
    "print (\"Value of d is :\",d,\"\\nand value of e is:\",e)   #\\n is used to print to new line. \\n is called an escape squence, \n",
    "#it is a special charater reserved in many coding languages."
   ]
  },
  {
   "cell_type": "markdown",
   "metadata": {
    "colab_type": "text",
    "id": "OWus9QPVp4kn"
   },
   "source": [
    "\n",
    "<b>----------------------------------------------------------------------------------------------------------------------------------------------</b>\n",
    "####<u>**vii.) Expotential Operator : <b>**</b>'**'</u>\n",
    " (Divides two or more numbers)\n",
    "<br><br>\n",
    "&nbsp;&nbsp;&nbsp;&nbsp;&nbsp;&nbsp;&nbsp;&nbsp;&nbsp;&nbsp;&nbsp;&nbsp;&nbsp;&nbsp;&nbsp;&nbsp;&nbsp;&nbsp;&nbsp;&nbsp;&nbsp;&nbsp;&nbsp;&nbsp;&nbsp;&nbsp;&nbsp;&nbsp;&nbsp;&nbsp;&nbsp;Eg : >>> a = 4; b = 4;   \n",
    "<br>\n",
    "&nbsp;&nbsp;&nbsp;&nbsp;&nbsp;&nbsp;&nbsp;&nbsp;&nbsp;&nbsp;&nbsp;&nbsp;&nbsp;&nbsp;&nbsp;&nbsp;&nbsp;&nbsp;&nbsp;&nbsp;&nbsp;&nbsp;&nbsp;&nbsp;&nbsp;&nbsp;&nbsp;&nbsp;&nbsp;&nbsp;&nbsp;&nbsp;&nbsp;&nbsp;&nbsp;&nbsp;&nbsp;&nbsp;>>> print (a<b>**</b>2,\" and \", a<b>**</b>b, \" and \", a<b>**</b>0.5)\n",
    "<br> &nbsp;&nbsp;&nbsp;&nbsp;&nbsp;&nbsp;&nbsp;&nbsp;&nbsp;&nbsp;&nbsp;&nbsp;&nbsp;&nbsp;&nbsp;&nbsp;&nbsp;&nbsp;&nbsp;&nbsp;&nbsp;&nbsp;&nbsp;&nbsp;&nbsp;&nbsp;&nbsp;&nbsp;&nbsp;&nbsp;&nbsp;&nbsp;&nbsp;&nbsp;&nbsp;&nbsp;&nbsp;&nbsp;(Answer is 16 and 256 and 2.0)\n",
    "<br>\n",
    "\n",
    "&nbsp;&nbsp;&nbsp;&nbsp;&nbsp;&nbsp;&nbsp;&nbsp;&nbsp;&nbsp;&nbsp;&nbsp;&nbsp;**Note :** 4^2 or 4 to the power 2 or 4 raised to 2 is 16 (4x4=16), 4^4 is 256 (4x4x4x4=256) and 4^0.5 is (4)^1/2 which basically means underoot of 4. Notice that the output is 2.0 for 4^0.5 not 2, as we are using 0.5 which is a float value so we get a float output. Similarly, if we did \n",
    "4^2.0 instead of 4^2 we would get 16.0 not 16. This is true for all operators, integer and operator and float = float ouptput. Eg : 4<b>*</b>2.0=8.0 (Here, ^ denotes <b> ** </b> operator)\n"
   ]
  },
  {
   "cell_type": "code",
   "execution_count": 11,
   "metadata": {
    "colab": {
     "base_uri": "https://localhost:8080/",
     "height": 73
    },
    "colab_type": "code",
    "id": "ZovzEoV5qQ4i",
    "outputId": "862a1e18-1d21-48af-85f0-ffb27fd31f6f"
   },
   "outputs": [
    {
     "name": "stdout",
     "output_type": "stream",
     "text": [
      "'a' raised to power of 2 is: 16 \n",
      "and 'a' raised to power of b is : 256 \n",
      "and 'a' raised to 0.5 is: 2.0\n"
     ]
    }
   ],
   "source": [
    "#Expontential (**)\n",
    "a = 4; b = 4;\n",
    "print (\"\\'a\\' raised to power of 2 is:\",a**2,\"\\nand \\'a\\' raised to power of b is :\", a**b, \"\\nand \\'a\\' raised to 0.5 is:\", a**0.5)\n",
    "\n",
    "#\\' \\' Is used to treat single quotes here as raw string, meaning as string itself, as using them without slash (\\) would make python think\n",
    "#that we are using it to encapsulate a string (basically single quotes are also used to print and assign string value, so to not use them for\n",
    "#declaration but for printing purposes we use the slash (\\))."
   ]
  },
  {
   "cell_type": "markdown",
   "metadata": {
    "colab_type": "text",
    "id": "HASM5DqaqReS"
   },
   "source": [
    "<br><br><hr><br>\n",
    "\n",
    "### <u>**b.) Float Data type (float)**</u><br>\n",
    "<u>*Declaring float value :*</u><br>\n",
    "We use '=' as the assignment operator which assigns values to the variable.<br> \n",
    "a = 1.2<br>\n",
    "b = 2.5<br>\n",
    "a = 1.2; b = 2.5<br>\n",
    "a,b = 1.2,2.5 <br>All work. Here 'a' & 'b' are variables holding the values 1.2 and 2.5 through the whole example. Basically it's the same as declaring int or string  values.\n",
    "<br><br><u>*Working with floats :*</u><br>\n",
    "It's the same as integer values in python (I mean floats are just integers in the end but they have a point, so obviously it works just the same). Operators like addition, subraction, multiplication, division, modulus, all the operators mentioned above work."
   ]
  },
  {
   "cell_type": "code",
   "execution_count": 12,
   "metadata": {
    "colab": {
     "base_uri": "https://localhost:8080/",
     "height": 36
    },
    "colab_type": "code",
    "id": "Jw_30XDUrmn8",
    "outputId": "090f871a-0760-475f-abcf-7ec2e13bb81e"
   },
   "outputs": [
    {
     "name": "stdout",
     "output_type": "stream",
     "text": [
      "The product of 'a' and 'b' is : 5.04\n"
     ]
    }
   ],
   "source": [
    "#Float data type\n",
    "\n",
    "#Try using operators with float values like the above examples here. I have done one for you\n",
    "\n",
    "a= 1.2 #spaces between variable and = (assignment operator) does not matter.\n",
    "b =4.2\n",
    "#though it is a good idea to practise standard spacing like in above examples, like this : a = 1.2\n",
    "print (\"The product of \\'a\\' and \\'b\\' is :\",a*b)"
   ]
  },
  {
   "cell_type": "markdown",
   "metadata": {
    "colab_type": "text",
    "id": "TFwiAmWWsmLz"
   },
   "source": [
    "<br><br><hr><br>\n",
    "\n",
    "### <u>**c.) String Data type (str)**</u><br>\n",
    "<br>\n",
    "Unlike int and float values which can only be used for maths and with operators, we can do a lot with strings, like : concatenation of strings, reversing a string, slicing strings, capitalizing them, etc and hence python treats string not just like a datatype but as a module/library  also, meaning it has it's own sets of functions that can be used with strings.\n",
    "This allows us coders to just call the function instead of typing multiple lines of codes to do the same thing. This is a feature of python as it's also a functional programming language as I mentioned in the features section of python. (2nd topic in Content).\n",
    "<br><br>\n",
    "String datatype consists of all alphabets letters, symbols, signs and alphanumeric values. They are represented inside quotes (\"\").\n",
    "\n"
   ]
  },
  {
   "cell_type": "markdown",
   "metadata": {
    "colab_type": "text",
    "id": "G6nzuVjxHNpC"
   },
   "source": [
    "<b>----------------------------------------------------------------------------------------------------------------------------------------------</b><br>\n",
    "####<u>i.) Declaring string values</u> :<br>\n",
    "<code>\n",
    "var = \"hello potato\"</code> #You can make this sentence as long as you like <br>\n",
    "<code>print (var)<br><br>\n",
    "var1 = \"hello potato this is a longer sentence which can stretch for many virtual kilometers provided you have the patience to type that much\"\n",
    "<br>\n",
    "print (var1)</code><br><br>\n",
    "Eg :"
   ]
  },
  {
   "cell_type": "code",
   "execution_count": 13,
   "metadata": {
    "colab": {
     "base_uri": "https://localhost:8080/",
     "height": 54
    },
    "colab_type": "code",
    "id": "i6hC7_lO2O1a",
    "outputId": "7498ee98-cb63-4ad2-fb97-5225a8db7548"
   },
   "outputs": [
    {
     "name": "stdout",
     "output_type": "stream",
     "text": [
      "hello potato\n",
      "hello potato this is a longer sentence which can stretch for many virtual kilometers provided you have the patience to type that much!\n"
     ]
    }
   ],
   "source": [
    "#Declaring strings in python\n",
    "\n",
    "var = \"hello potato\"  #Pretty self explanatory and I have explained the same in the beginning of introduction about Datatypes in python\n",
    "#topic 6 in contents\n",
    "print (var)\n",
    "var1 = \"hello potato this is a longer sentence which can stretch for many virtual kilometers provided you have the patience to type that much!\" \n",
    "print (var1)  #No need to do : char var1[100] like in case of c/c++, it's technically unlimited memory allocation by default."
   ]
  },
  {
   "cell_type": "markdown",
   "metadata": {
    "colab_type": "text",
    "id": "ooS82LbN4V78"
   },
   "source": [
    "\n",
    "<b>----------------------------------------------------------------------------------------------------------------------------------------------</b><br>\n",
    "####<u>ii.) String concatenation in python :</u><br>\n",
    "String concatenation refers to the act of joining two strings together to make a new string consisting both the previous strings. Like this multiple strings can be joined together. String concatenation is very simple in python. You just add text as it is. Following example below will demonstrate everything."
   ]
  },
  {
   "cell_type": "code",
   "execution_count": 14,
   "metadata": {
    "colab": {
     "base_uri": "https://localhost:8080/",
     "height": 111
    },
    "colab_type": "code",
    "id": "K6Pd6BRf5FQd",
    "outputId": "541d7c16-d7c8-4a2b-bcbc-7d84a95fa148"
   },
   "outputs": [
    {
     "name": "stdout",
     "output_type": "stream",
     "text": [
      "hello potato \n",
      "hello potato hello potato \n",
      "hello potato hello potato !!\n",
      "\n",
      "Mic testing 123 Mic testing 123 !! hello potato , can you hear me now ?\n"
     ]
    }
   ],
   "source": [
    "#Example of string concatenation in python\n",
    "\n",
    "a = \"hello\"\n",
    "b = \" \"  #empty space\n",
    "c = \"potato\"\n",
    "d = a+b+c+b #string concatenation\n",
    "print (d)\n",
    "print (d+d+\"\\n\"+d+d+\"!!\")  #another example of string concatenation\n",
    "\n",
    "e = \"123\" #Notice how variable 'e' is holding 123 as a string value, not as an integer. We can clearly notice this using the \"\" (Double quotes)\n",
    "#around 123. We cannot do string concatenation for integer and string. String conct. is only possible for strings.\n",
    "f = \"Mic testing\"\n",
    "print (\"\\n\"+f+b+e+b+f+b+e+\" !!\"+\" \"+d+\",\",\"can you hear me now ?\")"
   ]
  },
  {
   "cell_type": "markdown",
   "metadata": {
    "colab_type": "text",
    "id": "pN_1Dw3l6dfd"
   },
   "source": [
    "\n",
    "<b>----------------------------------------------------------------------------------------------------------------------------------------------</b><br>\n",
    "####<u>iii.) Indexing and slicing strings in python :</u><br>\n",
    "* <u>Definition of Index/Indices</u> :\n",
    "<br>It is a common method for keeping track of data so that it can be accessed quickly. Like an index in a book, it is a numeric value in which each entry contains the name of the item or element and its location. However, computer-based indexes may point to a physical location on a disk or to a logical location that points elsewhere to the actual location.<br>\n",
    "Indices (plural of 'index') start from 0 (zero) and go on to n-1, where 'n' is the number of characters in the string in this case. For eg: the string \"hello\" has n = 5 value as \"hello\" has 5 characters, hence the indices will start from 0 and go on till n-1, i.e, 5 - 1 = 4.<br>\n",
    "In python, indexing is represented as follows, say : a = \"hello\"; then a[index_number] is the syntax of using indices for string (as well as lists which will be explained later). So in this case, a[0], a[1], a[2], a[3] and a[4] are indices of the variable 'a'. Each of these indices, hold a character of that string assigned to the variable. Therefore, for a = \"hello\", a[0]=>'h', a[1]=>'e',a[2]=>'l', a[3]=>'l', a[4]=>'o'. We don't have a[5] as the length of \"hello\" is 5, and indices range from 0 to n-1 as I said before, so here it is 0 to 4 indices. Similar example : b = \"Name\", here indices of 'b' from 0 to 3 where, b[0]='N', b[1]='a', b[2]='m' and b[3]='e'. <br><br>\n",
    "Unlike in C/C++, Python also has negative indices as well, meaning if a = \"hello\", then it will have that many negative indices as well, meaning, indices from -1 to -5 (as \"hello\" has 5 letters in it), but notice that the positive indices are start from 0 to n-1, or 5-1=4 (0 to 4 in case of \"hello\"). So negative indices are represented in the following way : a[-5], a[-4], a[-3], a[-2] and a[-1].\n",
    "<br> So what's the difference between positive indices and negative indices you may think?\n",
    "<br> Negative indices return characters from the other end or the right-end. This is useful when you got to print values from the other end of the string or don't exactly know what the last character of the string is. Eg : a=\"hello\"; then a[-5]=>\"h\",a[-4]=>\"e\",a[-3]=>\"l\",a[-2]=>\"l\",a[-1]=>\"o\".<br>\n",
    "So from the above you can understand that :<br>\n",
    "<br> a[0] => a[-5] => \"h\";\n",
    "<br> a[1] => a[-4] => \"e\";\n",
    "<br> a[2] => a[-3] => \"l\";\n",
    "<br> a[3] => a[-2] => \"l\";\n",
    "<br> a[4] => a[-1] => \"o\";\n",
    "<br><br> So the following indices hold the same value and can be used as per our likings or situation. Sometimes it's easier to use the negative indices while sometimes it's easier to use the positive indices (like in most cases) or in some cases it's easier to use both.\n",
    "<br> <br>NOTE : I am using \"=>\" instead of \"=\" for a[0]=>\"h\" because \"=\" (equal to) is an assignment operator and will show error if you use a[0]=\"h\" in our case, I am just trying to make you understand that a[0] holds the value \"h\" and this can only be presented using : print(a[0]).\n",
    "<br>\n",
    "<br> EG:"
   ]
  },
  {
   "cell_type": "code",
   "execution_count": 15,
   "metadata": {
    "colab": {
     "base_uri": "https://localhost:8080/",
     "height": 223
    },
    "colab_type": "code",
    "id": "G8oBET8z_4Em",
    "outputId": "b766e71b-f840-4c13-b01a-508c29e1770f"
   },
   "outputs": [
    {
     "name": "stdout",
     "output_type": "stream",
     "text": [
      "  a\n",
      "  p e\n",
      "  p  l\n",
      "  l   p\n",
      "  e    p\n",
      "--------- apple\n",
      "  e    p\n",
      "  l   p\n",
      "  p  l\n",
      "  p e\n",
      "  a\n"
     ]
    }
   ],
   "source": [
    "#Example of indices in strings\n",
    "a = \"apple\"\n",
    "print (\" \",a[0])                #Positive indices from 0 to 4 (coz \"apple\" has 5 characters so, it's from 0 to n-1, or 5-1 = 4)\n",
    "print (\" \",a[1],a[4])\n",
    "print (\" \",a[2],\"\",a[3])\n",
    "print (\" \",a[3],\" \",a[2])\n",
    "print (\" \",a[4],\"  \",a[1])\n",
    "print (\"---------\",a)\n",
    "print (\" \",a[-1],\"  \",a[-4])    #Negative indices from -1 to -5 (coz \"apple\" has 5 characters)\n",
    "print (\" \",a[-2],\" \",a[-3])\n",
    "print (\" \",a[-3],\"\",a[-2])\n",
    "print (\" \",a[-4],a[-1])\n",
    "print (\" \",a[-5])\n"
   ]
  },
  {
   "cell_type": "markdown",
   "metadata": {
    "colab_type": "text",
    "id": "6JyZqLbXHPcl"
   },
   "source": [
    "* <u>Slices in strings </u> :\n",
    "<Br> So uptil now we have learned about indices in strings. Now moving to the next topic, which is slices. It uses the concept of indices to work. If you remember correctly, if a=\"apple\", then a[0]=>\"a\". Here, we are just using one index, i.e., 0 (zero). But in actual, we can input upto three parameters inside the [ ] (square brackets).\n",
    "<br>The important thing to remember is this :\n",
    " * We can input upto three parameters inside the square brackets [ ].\n",
    " * Out of the three parameters, having at least one value or parameter when using the square brackets [ ] is compulsory (as in a[0]).\n",
    " * So we can use either 1, 2 or upto 3 parameters in square brackets, and each of these parameters is seperated using \"colons\" (:).\n",
    " * The parameters are denoted as follows -> [*start*:*stop*:*step*] (notice the colons been used to seperate the parameters as mentioned in the above point.\n",
    " * *start* parameter decides from which index we are supposed to start.\n",
    " * *stop* parameter decides at which index we are supposed to stop (it goes upto n-1 index, so if we choose say (a[0:3]), we will get characters in \"apple\" from 0th index to 3-1=2 (n-1), so a[0:3] will return \"app\" from 0th, 1st and 2nd index). Here even though we just used [*start*:*stop*] in a[0:3], the *step* parameter was by default set to 1, i.e. in the back-end python was executing a[0:3:1], because by default, the *step* parameter is set at 1, when we use both *start* and *stop* parameters inside the square brackets.\n",
    " * *step* parameter is used for skipping the characters or stepping on them as we count from left to right. For eg : a[0:5:2] (here we have purposefully used '2' as the step so python knows not to use \"1\" as the value for the step parameter by default).<br>So, for a[0:5:2], we will start at a[0]=>\"a\",jump two indices and go to a[2]=>\"p\" and go on until 5-1=4 index,so a[4]=\"e\". So a[0:5:2]=>\"ape\" (Start at 0, stop at 5-1=4, jump two indices every step). Notice how we can use \"5\" as stop value as well because *stop* parameter only considers n-1 as a value.\n",
    " * In case only one parameter is involved (like in a[0]), we get the value at that specific index (\"a\" in \"apple\" for a[0]). Because here, we only consider the value at that specific index, here a[0].\n",
    " * In case two parameters are given then python only considers them as [*Start*:*Stop*] with *Step* set at 1 by default in the back-end by python itself. Eg : a[0:4]=>\"appl\" (From 0th index to n-1 (4-1=3) index).\n",
    " * In case all three parameters are given [*start*:*stop*:*step*] it works the same way as explained in case of a[0:5:2] above.\n",
    " "
   ]
  },
  {
   "cell_type": "code",
   "execution_count": 16,
   "metadata": {
    "colab": {
     "base_uri": "https://localhost:8080/",
     "height": 37
    },
    "colab_type": "code",
    "id": "1m2tcFZkMZ_G",
    "outputId": "b2624425-d8ab-490a-e2d2-715f93a4fd1f"
   },
   "outputs": [
    {
     "data": {
      "application/vnd.google.colaboratory.intrinsic": {
       "type": "string"
      },
      "text/plain": [
       "'ello world'"
      ]
     },
     "execution_count": 16,
     "metadata": {
      "tags": []
     },
     "output_type": "execute_result"
    }
   ],
   "source": [
    "s = \"hello world\"\n",
    "# Grab everything past the first term all the way to the length of s till the end\n",
    "s[1:]"
   ]
  },
  {
   "cell_type": "code",
   "execution_count": 17,
   "metadata": {
    "colab": {
     "base_uri": "https://localhost:8080/",
     "height": 37
    },
    "colab_type": "code",
    "id": "D2z2YjkYPYWi",
    "outputId": "258b1ebb-b0a0-42a3-ee8e-79f89ce4c320"
   },
   "outputs": [
    {
     "data": {
      "application/vnd.google.colaboratory.intrinsic": {
       "type": "string"
      },
      "text/plain": [
       "'hello world'"
      ]
     },
     "execution_count": 17,
     "metadata": {
      "tags": []
     },
     "output_type": "execute_result"
    }
   ],
   "source": [
    "# Note that there is no change to the original s variable\n",
    "s"
   ]
  },
  {
   "cell_type": "code",
   "execution_count": 18,
   "metadata": {
    "colab": {
     "base_uri": "https://localhost:8080/",
     "height": 37
    },
    "colab_type": "code",
    "id": "BA_H4M-mPZv9",
    "outputId": "d124b8b8-26a9-4de1-d26a-821cca395f8f"
   },
   "outputs": [
    {
     "data": {
      "application/vnd.google.colaboratory.intrinsic": {
       "type": "string"
      },
      "text/plain": [
       "'hell'"
      ]
     },
     "execution_count": 18,
     "metadata": {
      "tags": []
     },
     "output_type": "execute_result"
    }
   ],
   "source": [
    "\n",
    "# Grab everything UP TO the 4th index (n-1 = 4-1 = 3rd index, indices till 3rd will be printed)\n",
    "s[:4]"
   ]
  },
  {
   "cell_type": "code",
   "execution_count": 19,
   "metadata": {
    "colab": {
     "base_uri": "https://localhost:8080/",
     "height": 37
    },
    "colab_type": "code",
    "id": "9HYdpV-iPe_S",
    "outputId": "a4fcf8c8-9ceb-4695-df84-6bd8fafba8f0"
   },
   "outputs": [
    {
     "data": {
      "application/vnd.google.colaboratory.intrinsic": {
       "type": "string"
      },
      "text/plain": [
       "'hello world'"
      ]
     },
     "execution_count": 19,
     "metadata": {
      "tags": []
     },
     "output_type": "execute_result"
    }
   ],
   "source": [
    "#Everything\n",
    "s[:]"
   ]
  },
  {
   "cell_type": "code",
   "execution_count": 20,
   "metadata": {
    "colab": {
     "base_uri": "https://localhost:8080/",
     "height": 37
    },
    "colab_type": "code",
    "id": "ElLG0rD8Pjy3",
    "outputId": "a8b41264-36ea-4cc3-e5cb-30b4e839bb3e"
   },
   "outputs": [
    {
     "data": {
      "application/vnd.google.colaboratory.intrinsic": {
       "type": "string"
      },
      "text/plain": [
       "'hello worl'"
      ]
     },
     "execution_count": 20,
     "metadata": {
      "tags": []
     },
     "output_type": "execute_result"
    }
   ],
   "source": [
    "# Grab everything but the last letter\n",
    "s[:-1]    \n",
    "#Start here is considered as \"Everything\", you can notice that only one single colon is used meaning [start:stop] parameters\n",
    "#are used while step is considered as 1 by default by python. Stop parameter is set to n-1 (-1-1=-2) so return everything till -2 index\n",
    "#step as 1 (set by python, even though we are only using the parameters [start:stop])"
   ]
  },
  {
   "cell_type": "code",
   "execution_count": 21,
   "metadata": {
    "colab": {
     "base_uri": "https://localhost:8080/",
     "height": 37
    },
    "colab_type": "code",
    "id": "QSQVSWHJPpEG",
    "outputId": "12cc3b7a-2b87-49d6-ef8a-14148bfa8578"
   },
   "outputs": [
    {
     "data": {
      "application/vnd.google.colaboratory.intrinsic": {
       "type": "string"
      },
      "text/plain": [
       "'hello world'"
      ]
     },
     "execution_count": 21,
     "metadata": {
      "tags": []
     },
     "output_type": "execute_result"
    }
   ],
   "source": [
    "# Grab everything, but go in steps size of 1\n",
    "s[::1]  \n",
    "#Here start and stop parameter are considered as \"everything is included\" and we are considering three parameters as you can notice\n",
    "#unlike above example, we have two colons in square brackets so the parameters now include [start:stop:step] but since start and stop aren't\n",
    "#mentioned, it will include everything."
   ]
  },
  {
   "cell_type": "code",
   "execution_count": 22,
   "metadata": {
    "colab": {
     "base_uri": "https://localhost:8080/",
     "height": 37
    },
    "colab_type": "code",
    "id": "G3bHxqANPtMN",
    "outputId": "427d7e77-0215-4c0a-d30b-eef62813748a"
   },
   "outputs": [
    {
     "data": {
      "application/vnd.google.colaboratory.intrinsic": {
       "type": "string"
      },
      "text/plain": [
       "'hlowrd'"
      ]
     },
     "execution_count": 22,
     "metadata": {
      "tags": []
     },
     "output_type": "execute_result"
    }
   ],
   "source": [
    "# Grab everything, but go in step sizes of 2\n",
    "s[::2]\n",
    "#Here, yet again [start:stop:step] are used\n",
    "#start = 0th index \n",
    "#stop = last index is included (Basically include everything as start and stop aren't mentioned implicitly)\n",
    "#step = set as 2 by us."
   ]
  },
  {
   "cell_type": "code",
   "execution_count": 23,
   "metadata": {
    "colab": {
     "base_uri": "https://localhost:8080/",
     "height": 37
    },
    "colab_type": "code",
    "id": "zXbS5OMqQtoc",
    "outputId": "5a3c4970-2931-4c9d-9d56-52972d51664c"
   },
   "outputs": [
    {
     "data": {
      "application/vnd.google.colaboratory.intrinsic": {
       "type": "string"
      },
      "text/plain": [
       "'dlrow olleh'"
      ]
     },
     "execution_count": 23,
     "metadata": {
      "tags": []
     },
     "output_type": "execute_result"
    }
   ],
   "source": [
    "# We can use this to print a string backwards\n",
    "s[::-1]\n",
    "#Grab everything but start from the last index (negative one step) and go on to the start parameter."
   ]
  },
  {
   "cell_type": "markdown",
   "metadata": {
    "colab_type": "text",
    "id": "Tukjf7KeRei0"
   },
   "source": [
    "####<u>iv.) String Properties</u> : \n",
    "It's important to note that strings have an important property known as *immutability*. This means that once a string is created, the elements within it can not be changed or replaced. For example:"
   ]
  },
  {
   "cell_type": "code",
   "execution_count": 24,
   "metadata": {
    "colab": {
     "base_uri": "https://localhost:8080/",
     "height": 36
    },
    "colab_type": "code",
    "id": "bV6h01eURy0E",
    "outputId": "88968691-faa0-4dd7-ccb2-ddeb649f4c18"
   },
   "outputs": [
    {
     "name": "stdout",
     "output_type": "stream",
     "text": [
      "hello world\n"
     ]
    }
   ],
   "source": [
    "print (s)"
   ]
  },
  {
   "cell_type": "code",
   "execution_count": 25,
   "metadata": {
    "colab": {
     "base_uri": "https://localhost:8080/",
     "height": 231
    },
    "colab_type": "code",
    "id": "J4Gd43gBR0d5",
    "outputId": "5a7b8d22-d31e-4a6e-8943-6f8b0a29f2be"
   },
   "outputs": [
    {
     "ename": "TypeError",
     "evalue": "ignored",
     "output_type": "error",
     "traceback": [
      "\u001b[0;31m---------------------------------------------------------------------------\u001b[0m",
      "\u001b[0;31mTypeError\u001b[0m                                 Traceback (most recent call last)",
      "\u001b[0;32m<ipython-input-25-6e347f416f94>\u001b[0m in \u001b[0;36m<module>\u001b[0;34m()\u001b[0m\n\u001b[1;32m      1\u001b[0m \u001b[0;31m# Let's try to change the first letter to 'x'\u001b[0m\u001b[0;34m\u001b[0m\u001b[0;34m\u001b[0m\u001b[0;34m\u001b[0m\u001b[0m\n\u001b[0;32m----> 2\u001b[0;31m \u001b[0ms\u001b[0m\u001b[0;34m[\u001b[0m\u001b[0;36m0\u001b[0m\u001b[0;34m]\u001b[0m \u001b[0;34m=\u001b[0m \u001b[0;34m'x'\u001b[0m\u001b[0;34m\u001b[0m\u001b[0;34m\u001b[0m\u001b[0m\n\u001b[0m\u001b[1;32m      3\u001b[0m \u001b[0;31m#This was the reason I was using \"=>\" To denote a[0]=>\"a\" in above examples, as saying a[0]=\"a\" means you are trying to\u001b[0m\u001b[0;34m\u001b[0m\u001b[0;34m\u001b[0m\u001b[0;34m\u001b[0m\u001b[0m\n\u001b[1;32m      4\u001b[0m \u001b[0;31m#change the value/character at a[0] which is not allowed in string datatype.\u001b[0m\u001b[0;34m\u001b[0m\u001b[0;34m\u001b[0m\u001b[0;34m\u001b[0m\u001b[0m\n",
      "\u001b[0;31mTypeError\u001b[0m: 'str' object does not support item assignment"
     ]
    }
   ],
   "source": [
    "# Let's try to change the first letter to 'x'\n",
    "s[0] = 'x'\n",
    "#This was the reason I was using \"=>\" To denote a[0]=>\"a\" in above examples, as saying a[0]=\"a\" means you are trying to\n",
    "#change the value/character at a[0] which is not allowed in string datatype."
   ]
  },
  {
   "cell_type": "markdown",
   "metadata": {
    "colab_type": "text",
    "id": "fUWWH4tkSLy0"
   },
   "source": [
    "Notice how the error tells us directly what we can't do, change the item assignment!\n",
    "\n",
    "Something we *can* do is concatenate strings!"
   ]
  },
  {
   "cell_type": "code",
   "execution_count": null,
   "metadata": {
    "colab": {},
    "colab_type": "code",
    "id": "dRhcqcEsSNxC"
   },
   "outputs": [],
   "source": [
    "s"
   ]
  },
  {
   "cell_type": "code",
   "execution_count": null,
   "metadata": {
    "colab": {},
    "colab_type": "code",
    "id": "Az4z0GkwSP80"
   },
   "outputs": [],
   "source": [
    "# Concatenate strings!\n",
    "s + '!! I am batman'"
   ]
  },
  {
   "cell_type": "code",
   "execution_count": null,
   "metadata": {
    "colab": {},
    "colab_type": "code",
    "id": "PDwk0XYASYOk"
   },
   "outputs": [],
   "source": [
    "#Notice how the original value of variable s is not changed\n",
    "s"
   ]
  },
  {
   "cell_type": "code",
   "execution_count": null,
   "metadata": {
    "colab": {},
    "colab_type": "code",
    "id": "3V6lJ510S8jp"
   },
   "outputs": [],
   "source": [
    "# We can reassign the variable s completely though!\n",
    "s = s + ' I am batman!'"
   ]
  },
  {
   "cell_type": "code",
   "execution_count": null,
   "metadata": {
    "colab": {},
    "colab_type": "code",
    "id": "C3DeNeJlTYot"
   },
   "outputs": [],
   "source": [
    "#The value of s is now reassigned\n",
    "s"
   ]
  },
  {
   "cell_type": "markdown",
   "metadata": {
    "colab_type": "text",
    "id": "8uJspIKLVzw6"
   },
   "source": [
    "####<u>v.) Basic Built-in String methods and functions</u> :\n",
    "\n",
    "Objects in Python usually have built-in methods and functions. These methods are functions inside the object that can perform actions or commands on the object itself.\n",
    "\n",
    "We call functions with a period/dot and then the function name. Functions are in the form:\n",
    "\n",
    "object.function-name(parameters)\n",
    "\n",
    "Where parameters are extra arguments we can pass into the method/functions. Don't worry if the details don't make 100% sense right now. Later on we will be creating our own objects and functions!\n",
    "\n",
    "Here are some examples of built-in methods/functions in strings:"
   ]
  },
  {
   "cell_type": "code",
   "execution_count": null,
   "metadata": {
    "colab": {},
    "colab_type": "code",
    "id": "O1Fd1xVmWWvq"
   },
   "outputs": [],
   "source": [
    "help(\"str\")  \n",
    "#notice how I am using str with small 's'. Python is case-sensitive, never forget that\n",
    "#This will return all the functions and methods we can use with strings.\n",
    "#press 'q' on the keyboard if you are in interactive/terminal mode of python to exit the help menu.\n",
    "#this is not the terminal/interactive mode of python by the way :P"
   ]
  },
  {
   "cell_type": "markdown",
   "metadata": {
    "colab_type": "text",
    "id": "arRsezOW6pkp"
   },
   "source": [
    "<b><u> Note : </b></u>  There's a difference between **str** and **string** in python. Especially if you consider <b>help(\"str\")</b> and <b>help(\"string\")</b>. <br><br>\n",
    "**str** is a datatype (It is also a **class** but more on \"class\" later) it is used to work with letters and symbols while <b>string</b> is a module/library which consists of added functions to work with strings {such as <b>string.lower</b> gives as a string from a to z \"abcde....xyz\"}. More info on this can be found [here](https://stackoverflow.com/questions/2026038/relationship-between-string-module-and-str). )\n"
   ]
  },
  {
   "cell_type": "markdown",
   "metadata": {
    "colab_type": "text",
    "id": "TwHd9oALeuRq"
   },
   "source": [
    "We will try to cover as many of these built-in methods and functions which are popular and generally used. You can always check the internet for the function or method that you don't understand or which is not covered here.<Br>\n",
    "Few points before we begin with string functions and methods :\n",
    "* If you look at the methods and functions mentioned in help(str) you can see that in the begining some are followed by <code><pre> __ add__ </code></pre>This means that this is a method and can be applicable on other data types like list, dictionaries, etc as well. Methods can be universal but a function most probably would not.\n",
    "* If you scroll down further in the help menu, you will notice now functions names like : Capitalize, center, count shown as follows :\n",
    "<code><pre>capitalize(...)\n",
    " |      S.capitalize() -> str\n",
    " |      \n",
    " |      Return a capitalized version of S, i.e. make the first character\n",
    " |      have upper case and the rest lower case.</pre></code>\n",
    " These are functions and follow the syntax as :\n",
    " <code>object.function-name(parameters_if_any)</code><Br> or\n",
    " <br><code>variablename.function-name(parameters_if_any).</code>\n",
    " <Br> Since we are talking about string functions here, the variable (which infact is the object of string class as well), should be holding a string value (like in case of s=\"hello world\") to be able to use string functions.<Br>\n",
    "\n"
   ]
  },
  {
   "cell_type": "markdown",
   "metadata": {
    "colab_type": "text",
    "id": "krtuGO_38uFw"
   },
   "source": [
    "####<u>vi.) Methods used with str</u> :\n",
    " Now, let's get started with the methods of <code>str</code> and see how to use them :"
   ]
  },
  {
   "cell_type": "code",
   "execution_count": null,
   "metadata": {
    "colab": {},
    "colab_type": "code",
    "id": "VstYqzC6eiP4"
   },
   "outputs": [],
   "source": [
    "z = \"power rangers\"   \n",
    "z.__add__(\" were so boring at times.\") #The __add__ method works the same way as concatenation works"
   ]
  },
  {
   "cell_type": "code",
   "execution_count": null,
   "metadata": {
    "colab": {},
    "colab_type": "code",
    "id": "pI1zqmErhVPM"
   },
   "outputs": [],
   "source": [
    "z   #but it isn't permanent like concatenation either"
   ]
  },
  {
   "cell_type": "code",
   "execution_count": null,
   "metadata": {
    "colab": {},
    "colab_type": "code",
    "id": "EqQu0Ry5hZ8o"
   },
   "outputs": [],
   "source": [
    "z + \" have lost the match\" #As you can see using + operator for concatenation method or __add__ is the same thing"
   ]
  },
  {
   "cell_type": "code",
   "execution_count": null,
   "metadata": {
    "colab": {},
    "colab_type": "code",
    "id": "-fgYDLiGh3Mb"
   },
   "outputs": [],
   "source": [
    "#By now you must have realized that the basic syntax for methods is as follows :\n",
    "\n",
    "#variable-name.__methodname__(parameters-if-any)\n",
    " \n",
    "#or\n",
    "\n",
    "#object-name.__methodname__(parameters-if-any)\n",
    "#lets use contains method\n",
    "z.__contains__(\"p\")"
   ]
  },
  {
   "cell_type": "code",
   "execution_count": null,
   "metadata": {
    "colab": {},
    "colab_type": "code",
    "id": "QlN2a-bciQPs"
   },
   "outputs": [],
   "source": [
    "z.__contains__(\"i\")  #as you can see, it checks if a specific character exists in the string or not.\n",
    "#Here we tried to find \"p\" and \"i\" in \"power rangers\" and we got True and False respectively as \"p\" is present while \"i\" isn't."
   ]
  },
  {
   "cell_type": "code",
   "execution_count": null,
   "metadata": {
    "colab": {},
    "colab_type": "code",
    "id": "s38wSVFYimBo"
   },
   "outputs": [],
   "source": [
    "#__eq__ method stands for \"Equal to\" and it checks if the string is exactly equivalent to the string assigned to the variable.\n",
    "z.__eq__(\"rangers power\")"
   ]
  },
  {
   "cell_type": "code",
   "execution_count": null,
   "metadata": {
    "colab": {},
    "colab_type": "code",
    "id": "PNFPVYXWiuSU"
   },
   "outputs": [],
   "source": [
    "z.__eq__(\"power rangers\")"
   ]
  },
  {
   "cell_type": "code",
   "execution_count": null,
   "metadata": {
    "colab": {},
    "colab_type": "code",
    "id": "xmtnfIzHlUX4"
   },
   "outputs": [],
   "source": [
    "#__ge__stands for 'greater than equal to'\n",
    "\"hello\".__ge__(\"hello\")  \n",
    "#We can directly use \"strings\" in double-quotes as well, because in the end variables point to \n",
    "#\"string_values\" itself."
   ]
  },
  {
   "cell_type": "code",
   "execution_count": null,
   "metadata": {
    "colab": {},
    "colab_type": "code",
    "id": "w1NXrlywlqaM"
   },
   "outputs": [],
   "source": [
    "\"hello\".__ge__(\"hell\")  #hello>=hell (True)"
   ]
  },
  {
   "cell_type": "code",
   "execution_count": null,
   "metadata": {
    "colab": {},
    "colab_type": "code",
    "id": "AZTZaZRMlvm6"
   },
   "outputs": [],
   "source": [
    "\"hello\".__ge__(\"hello world\")  #Don't forget the dot/period operator between the methods and the string/variables/object\n",
    "#here, \"hello\">=\"hello world\" (False)"
   ]
  },
  {
   "cell_type": "code",
   "execution_count": null,
   "metadata": {
    "colab": {},
    "colab_type": "code",
    "id": "MKqa7GbCl2_y"
   },
   "outputs": [],
   "source": [
    "#__gt__ stands for 'greater than'\n",
    "print (\"hello\".__gt__(\"hello\"))  #hello>hello (False) __gt__method\n",
    "print (\"hello\".__ge__(\"hello\"))  #hello>=hello (True) __ge__method"
   ]
  },
  {
   "cell_type": "code",
   "execution_count": null,
   "metadata": {
    "colab": {},
    "colab_type": "code",
    "id": "0Op8SRdzmGGo"
   },
   "outputs": [],
   "source": [
    "\"hi\".__gt__(\"h\")"
   ]
  },
  {
   "cell_type": "code",
   "execution_count": null,
   "metadata": {
    "colab": {},
    "colab_type": "code",
    "id": "-HjVB46d9squ"
   },
   "outputs": [],
   "source": [
    "#The hash() method or .__hash__()\n",
    "print(z.__hash__())\n",
    "    #or\n",
    "print (hash(z))  #both will give the same output\n",
    "\n",
    "#The hash() method returns the hash value of an object if it has one.\n",
    "#Hash values are just integers which are used to compare dictionary keys during a dictionary lookup quickly.\n",
    "#Internally, hash() method calls __hash__() method of an object which are set by default for any object."
   ]
  },
  {
   "cell_type": "code",
   "execution_count": null,
   "metadata": {
    "colab": {},
    "colab_type": "code",
    "id": "2SwQ60o2_mHD"
   },
   "outputs": [],
   "source": [
    "#The iter() method or .__iter__()\n",
    "#Just like hash() some methods can also be called as special functions like iter(),hash() and len(), and str()\n",
    "#you don't need to use __iter__(), you can just use iter() as well.\n",
    "#Definition of iter():\n",
    "        #The iter() method creates an object which can be iterated one element at a time.\n",
    "        #These objects are useful when coupled with loops like for loop, while loop.\n",
    "j = \"hey\"\n",
    "v = iter(j)\n",
    "n = j.__iter__()  #traditional way but both give the same output\n",
    "\n",
    "print (\"\\tv variable - \\n\")        #\\n prints to next line\n",
    "print (next(v))  \n",
    "print (next(v))            #next() is used to print the next iteration\n",
    "print (next(v))\n",
    "\n",
    "print (\"\\n\\tn variable - \\n\")\n",
    "print (next(n))   #1st iteration\n",
    "print (next(n))   #2nd iteration\n",
    "print (next(n))   #3rd iteration\n",
    "print (next(n))   #j = \"hey\" has only 3 characters, so it can be iterated only 3 times, this 4th iteration will cause an error\n",
    "\n",
    "\n",
    "\n"
   ]
  },
  {
   "cell_type": "code",
   "execution_count": null,
   "metadata": {
    "colab": {},
    "colab_type": "code",
    "id": "cf6hx0-YB0pL"
   },
   "outputs": [],
   "source": [
    "#len() or .__len__()\n",
    "#len() is used to get the lenght of the string, lists, tuples, etc. It doesn't work for datatypes that aren't container datatypes\n",
    "#dictionaries, etc or don't have indices like strings,lists,etc. Meaning it won't work for integers & floats as you can't\n",
    "#find length of a number but you can find how many characters does a string have\n",
    "\n",
    "print(len(\"This is a long sentence\"))\n",
    "p = \"This is a longer sentence\"\n",
    "print (len(p))\n",
    "print ( \"This is a longest setence I guess\".__len__() )\n",
    "print (len(\"hello\"))  #5 characters in \"hello\", hence the length will be 5 but indices are from 0 to 5-1=4.\n",
    "#don't get confused between length and indices.\n",
    "h = \"meh\"\n",
    "print (h.__len__())\n"
   ]
  },
  {
   "cell_type": "code",
   "execution_count": null,
   "metadata": {
    "colab": {},
    "colab_type": "code",
    "id": "eMRPI1INDf7T"
   },
   "outputs": [],
   "source": [
    "#__le__ method stands for \"less than equal to\" and is similar to __eq__,__gt__ and __ge__ methods\n",
    "print (\"h\".__le__(\"hey\"))\n",
    "h = \"meh\"\n",
    "print (h.__le__(\"m\"))   \n",
    "print (h.__le__(\"meh\"))  #meh>=meh"
   ]
  },
  {
   "cell_type": "code",
   "execution_count": null,
   "metadata": {
    "colab": {},
    "colab_type": "code",
    "id": "_WWlxPzeEiwo"
   },
   "outputs": [],
   "source": [
    "#__lt__ method stands for \"less than\" and is similar to __eq__,__ge__,__gt__ and __le__ methods\n",
    "h = \"meh\"\n",
    "print(h.__lt__(h)) #meh<meh (False)\n",
    "print (h.__lt__(h[0]*5)) #meh<mmmmm (True)"
   ]
  },
  {
   "cell_type": "code",
   "execution_count": null,
   "metadata": {
    "colab": {},
    "colab_type": "code",
    "id": "uqftLSUYFOFJ"
   },
   "outputs": [],
   "source": [
    "#__mul__ stands for Multiply and is used to multiply a string multiple times.\n",
    "print (\"hey! \".__mul__(5)) #Multiply 'hey' 5 times\n",
    "#It is the same as :       #Multiply 'hey' 7 times\n",
    "print (\"hey! \"*7)\n",
    "\n",
    "print (len(\"hey\"*10))  #Some improvisation examples with len() and .__len__\n",
    "print (len(\"hey\".__mul__(19)))\n",
    "print (\"hey\".__mul__(7).__len__())  "
   ]
  },
  {
   "cell_type": "code",
   "execution_count": null,
   "metadata": {
    "colab": {},
    "colab_type": "code",
    "id": "8bbjlRsvGGIU"
   },
   "outputs": [],
   "source": [
    "#__ne__ stands for 'Not equal to' and is opposite of  __eq__ method (equal to method)\n",
    "a = \"apple\"\n",
    "print (a.__ne__(a[0]))\n",
    "print (a.__ne__(a[:]))  #here a[:],a and \"apple\" are the same thing which is \"apple\" and hence, we get false as \"apple\" is equal to apple\n",
    "print (a.__ne__(a))\n",
    "print (a.__ne__(\"apple\"))\n",
    "\n",
    "#but\n",
    "print (a.__eq__(a[:]))  #as \"apple\" is equal to \"apple\"\n",
    "\n",
    "#IMPORTANT :\n",
    "#Kindly try not to \n"
   ]
  },
  {
   "cell_type": "code",
   "execution_count": null,
   "metadata": {
    "colab": {},
    "colab_type": "code",
    "id": "GTd4di_wGvI6"
   },
   "outputs": [],
   "source": [
    "#__repr__ method, It is used to put a string in single quotes and is useful while maintaining those single quotes during print statement\n",
    "print (\"And he quoted:\",\"The world is burning slowly~\".__repr__(),\"and left with a sad expression.\")\n",
    "print (\"Hey\".__repr__()) #with __repr__\n",
    "print (\"Hey\")            #without __repr__"
   ]
  },
  {
   "cell_type": "code",
   "execution_count": null,
   "metadata": {
    "colab": {},
    "colab_type": "code",
    "id": "uzUqqit3JFyq"
   },
   "outputs": [],
   "source": [
    "#__sizeof__ method returns the size of the string in memory, in bytes.\n",
    "\n",
    "a = \"apple\"\n",
    "print (a.__sizeof__())\n",
    "print (\"not apple\".__sizeof__())\n"
   ]
  },
  {
   "cell_type": "code",
   "execution_count": null,
   "metadata": {
    "colab": {},
    "colab_type": "code",
    "id": "fEE321bNJeLR"
   },
   "outputs": [],
   "source": [
    "#__str__ or str() method : Converts any datatype to a string value\n",
    "a = 9\n",
    "b = a.__str__()  #Converting int to str datatype\n",
    "print (b)\n",
    "c = str(a)       #Same thing but using str() instead\n",
    "print (c)\n",
    "print (b+c+\" pizzas didn't fill his stomach\")  #string concatenation\n",
    "print (a+b)      #This will cause error as variable 'a' is still holding on to integer value of 9\n",
    "                 #and concatenation of string and integers is not possible."
   ]
  },
  {
   "cell_type": "code",
   "execution_count": null,
   "metadata": {
    "colab": {},
    "colab_type": "code",
    "id": "zomhGj1uKUII"
   },
   "outputs": [],
   "source": [
    "#Some more important methods\n",
    "#type() method lets you check the dataype of any value or any variable that is holding any datatype\n",
    "\n",
    "a = \"apple\"\n",
    "print (type(a))\n",
    "print (type(1))\n",
    "b = 1.2\n",
    "print (type(b))\n",
    "print (type(\"Funny\"))"
   ]
  },
  {
   "cell_type": "markdown",
   "metadata": {
    "colab_type": "text",
    "id": "bMAxYcaNKvw5"
   },
   "source": [
    "####<u>vii.) Functions used with str</u> :\n",
    "When we run <code>help(str)</code>, after scrolling down a bit you will see methods with the double underscores on both sides, and after that comes functions which use the (.) dot operator.<br>\n",
    "Something like this :<br>\n",
    "<code><pre>capitalize(...)\n",
    " |      S.capitalize() -> str\n",
    " |      \n",
    " |      Return a capitalized version of S, i.e. make the first character\n",
    " |      have upper case and the rest lower case.</pre></code>\n",
    " <br>\n",
    " The basic syntax of functions is :<br>\n",
    " <pre><code>\n",
    " s = \"Text\"\n",
    " s.function-name(parameters-if-any) #Notice the usage of dot operator after the variable. Eg:\n",
    " s.capitalize()  #capitalize function doesn't have any parameters\n",
    " </code></pre>\n",
    " One thing that is worth noting here is that we can use functions of strings with any string value or variable that is assigned a string value (just like in case of methods. This will be clear in further examples below.\n",
    " Let's explore the functions of string module/data type :"
   ]
  },
  {
   "cell_type": "code",
   "execution_count": null,
   "metadata": {
    "colab": {},
    "colab_type": "code",
    "id": "TfZldhdssIdP"
   },
   "outputs": [],
   "source": [
    "#capitalize() function : Takes no parameters or arguments inside the paranthesis\n",
    "\n",
    "a = \"this is a text\"\n",
    "print (a.capitalize())  #Notice the \"T\" in \"this\" in \"this is a text\" in the output. It gets capitalized.\n",
    "print (a)               #Also notice how the original string value has not changed, to change the original string we need to reassign it\n",
    "a = a.capitalize()     #reassigning the value of variable a with a.capitalize() value\n",
    "print (a)               #The value will be capitalized now\n",
    "print (\"this is a text. this is an another text\".capitalize())\n",
    "#Capitalize only makes the first letter capital, it doesn't care about full stops as\n",
    "#in this example. Notice how I didn't use an variable to call the function just the string. This is what happens also when we use an variable.\n",
    "#Python subsitutes the string value of the variable in the back-end for us."
   ]
  },
  {
   "cell_type": "code",
   "execution_count": null,
   "metadata": {
    "colab": {},
    "colab_type": "code",
    "id": "R5QnrPpSToL7"
   },
   "outputs": [],
   "source": [
    "#center() function : Takes two parameters and one arguement (Meaning only one parameter is compulsory to be filled inside the paranthesis)\n",
    "#center() has two parameters which are (width,fill). Width expects integer value and is compulsory to fill, fill is a string data type and\n",
    "#isnt' compulsory to fill.\n",
    "\n",
    "s = \"hello\"\n",
    "#print (s.center())         This won't work as center() function atleast expects you enter one parameter. Hence I commented this statement.\n",
    "print (s.center(15))        #By default, width here is set to 15, while fill is set to \" \"  (empty space)\n",
    "print (s.center(15,\" \"))    #This will give the same output as above statement\n",
    "print (s.center(15,\"$\"))    #here the spaces will be set to $ (dollar) symmbol\n",
    "print (len(s.center(15,\"$\"))) #Notice how the final lenght isn't 15+5=20 where 15 is width and 5 is lenght of \"hello\"\n",
    "#center function just adds the character \"$\" on both the sides of the string \"hello\" until \"hello\" is in center\n",
    "\n",
    "print (\"Width is 4 : \",s.center(4,\"$\"))     #This won't work as we want to add width of 4 overall but the string \"hello\" itself is of length 5\n",
    "print (\"Width is 5 : \",s.center(5,\"$\"))     #won't have any change\n",
    "print (\"Width is 6 : \",s.center(6,\"$\"))     #will add a \"$\" at the end to make the final width as 5+1=6 (here, 5 is length of \"hello\")\n",
    "print (\"Width is 7 : \",s.center(7,\"$\"))     #adds dollar symbols on both sides to make overall length as 7.\n",
    "print (\"Width is 14 : \",s.center(14,\"$\"))   #adds 4 $ symbols on left and 5 $ symbols on right"
   ]
  },
  {
   "cell_type": "code",
   "execution_count": null,
   "metadata": {
    "colab": {},
    "colab_type": "code",
    "id": "2C2lC6FpZ0vt"
   },
   "outputs": [],
   "source": [
    "#count() function : Takes one parameter which is a string value in the paranthesis\n",
    "s = \"hello\"\n",
    "print (s.count(\"l\"))  #Returns the count of how many times the letter \"l\" appears in \"hello\"\n",
    "print (s.count(\"z\"))  #Returns how many times \"z\" appears in \"hello\"\n",
    "print (s.count(\"h\"))  #Returns how many times \"h\" appears in \"hello\"\n",
    "print (s.count(\"he\")) #Returns the count of how many times \"he\" appears in \"hello\"\n",
    "\n",
    "\n",
    "#this is an important function for questions like : How many times is \"s\" repeating in \"mississippi\"\n",
    "print (\"mississippi\".count(\"s\"))  #Returns 4 as \"s\" appears 4 times in \"mississippi\""
   ]
  },
  {
   "cell_type": "code",
   "execution_count": null,
   "metadata": {
    "colab": {},
    "colab_type": "code",
    "id": "Ub7Lnfq1au4L"
   },
   "outputs": [],
   "source": [
    "#endswith() function : Accepts one string value as a parameter in the paranthesis\n",
    "s = \"hello\"\n",
    "print (s.endswith(\"o\"))   #Accepts one string value in the paranthesis as the parameter\n",
    "#Returns boolean value (True or False) whether a string ends with a specific letter or character or not.\n",
    "\n",
    "print (s.endswith(\"s\"))"
   ]
  },
  {
   "cell_type": "code",
   "execution_count": null,
   "metadata": {
    "colab": {},
    "colab_type": "code",
    "id": "Jp7625JWbTGH"
   },
   "outputs": [],
   "source": [
    "#find() function : Accepts one string value as a parameter in paranthesis\n",
    "\n",
    "a = \"hello\"\n",
    "print (s.find(\"l\"))    #returns the index of the first instance of the string passed inside the paranthesis (here it is letter \"l\")\n",
    "#for the given string, here \"l\" is first spotted at index 2, hence it will return 2 ignoring another \"l\" at index 3 \n",
    "\n",
    "print (s.find(\"h\"))    #returns 0 for index 0 as \"h\" is at index 0 in \"hello\"\n",
    "\n",
    "print (s.find(\"z\"))    #returns -1 as the character \"z\" does not exist in \"hello\" Not to be confused with negative indices as explained before.\n",
    "print (s.find(\"H\"))    #returns -1 as character \"H\" is not present in \"hello\" (python is case-sensitive, it treats \"H\" and \"h\" differently)\n",
    "print (\"abcabcabc\".find(\"b\"))  #returns 1 as letter \"b\" is spotted at index 1 first. It will always return the lowest index value where it finds\n",
    "#the letter \"b\" first, that is the first instance of letter \"b\" in \"abcabcabc\""
   ]
  },
  {
   "cell_type": "code",
   "execution_count": null,
   "metadata": {
    "colab": {},
    "colab_type": "code",
    "id": "EBs6Oj0Tcd92"
   },
   "outputs": [],
   "source": [
    "#index() function : Accepts one string value as the parameter inside the paranthesis\n",
    "#Index works the same way as find() function, that is, it returns the lowest index where it first spotted the letter which was \n",
    "#passed inside the paranthesis but the only difference is, if a letter is not found in the actual string\n",
    "#it will raise \"ValueError\" instead of returning -1 in case of find() function\n",
    "#This is useful in case of exception handling where we can ignore the error and still make the code work.\n",
    "a = \"hello\"\n",
    "print (a.index(\"h\"))  #returns 0 as \"h\" is located at index 0 in \"hello\"\n",
    "print (a.index(\"o\"))  #returns 4 as \"o\" is located at index 4 in \"hello\"\n",
    "print (a.index(\"l\"))  #returns 2 as the first instance of \"l\" or the lowest index of \"l\" is at index 2 in \"hello\"\n",
    "print (a.index(\"z\"))  #returns \"ValueError\" as \"z\" is not present in \"hello\". Here, find() function would have returned -1 instead of an error\n",
    "                      #as we can see from the example above."
   ]
  },
  {
   "cell_type": "code",
   "execution_count": null,
   "metadata": {
    "colab": {},
    "colab_type": "code",
    "id": "sf7fyz_7d0HZ"
   },
   "outputs": [],
   "source": [
    "#isalnum() function : Accepts no values as parameters in the paranthesis\n",
    "#alnum stands for \"is alphanumeric\" or \"is aplphabet or numeric\" \n",
    "#It checks whether each character in a given string is either an alphabet or number\n",
    "#if not, then it returns False else it returns True\n",
    "a = \"hello\"\n",
    "b = \"hello123\"\n",
    "c = \"123\"\n",
    "d = \"hello 123\"  #notice the whitespace in between of \"hello\" and \"123\"\n",
    "\n",
    "print (a.isalnum())   #Returns True as all the letters in variable a are alphabets\n",
    "print (b.isalnum())   #Returns True as all the letters in variable b are alphabet or numbers\n",
    "print (c.isalnum())   #Returns True as all the letters in variable c are numbers\n",
    "print (d.isalnum())   #Returns False as whitspace between \"hello\" and \"123\" is neither a number nor an alphabet"
   ]
  },
  {
   "cell_type": "code",
   "execution_count": null,
   "metadata": {
    "colab": {},
    "colab_type": "code",
    "id": "0DT9f-vofq1X"
   },
   "outputs": [],
   "source": [
    "#isalpha() function : Accepts no values as parameters in the paranthesis\n",
    "#isalpha() stands for \"is alphabet\" checks if each character in a given string is an alphabet or not\n",
    "#if it is an alphabet it returns True or else it returns false\n",
    "\n",
    "a = \"hello\"\n",
    "b = \"hello123\"\n",
    "c = \"123\"\n",
    "d = \"hello world\"  #notice the whitespace in between of \"hello\" and \"world\"\n",
    "e = \"hello-world\"\n",
    "\n",
    "print (a.isalpha())   #Returns True as all the letters in variable a are alphabets\n",
    "print (b.isalpha())   #Returns False as all the letters in variable b are alphabet or numbers. Every character isn't an alphabet.\n",
    "print (c.isalpha())   #Returns False as all the letters in variable c are numbers and not alphabets. \n",
    "print (d.isalpha())   #Returns False as whitspace between \"hello\" and \"hello\" is not an alphabet.\n",
    "print (e.isalpha())   #Returns False as \"-\" in \"hello-world\" is not an alphabet."
   ]
  },
  {
   "cell_type": "code",
   "execution_count": null,
   "metadata": {
    "colab": {},
    "colab_type": "code",
    "id": "0wrotxLCghpN"
   },
   "outputs": [],
   "source": [
    "#isdecimal() function : Accepts no values as parameters in the paranthesis\n",
    "#isdecimal() does exactly what it sounds like. It checks if a given string is a decimal or not.\n",
    "#Please do not confuse decimal for float values like (1.2, 2.434, 3.14 etc). Decimal here refers to decimal in case of\n",
    "#binary, oct, decimal, hexa-decimal\n",
    "\n",
    "a = \"1.5\"\n",
    "b = \"hello-to-only-1.5-of-you-humans\"\n",
    "c = \"hello to only 1.5 of you humans\"\n",
    "d = \"0123\"\n",
    "\n",
    "print (a.isdecimal())   #1.5 is not a decimal no. (It's a float)\n",
    "print (b.isdecimal())   #Not decimal\n",
    "print (c.isdecimal())   #Not decimal\n",
    "print (d.isdecimal())   #This is decimal as decimal system has numbers from 0 to 9 only."
   ]
  },
  {
   "cell_type": "code",
   "execution_count": null,
   "metadata": {
    "colab": {},
    "colab_type": "code",
    "id": "RE1qPgmksaJ9"
   },
   "outputs": [],
   "source": [
    "#isdigit() function : Takes no parameter in paranthesis\n",
    "#Works the same way as isdecimal() function the \n",
    "a = \"1.5\"\n",
    "b = \"hello-to-only-1.5-of-you-humans\"\n",
    "c = \"hello to only 2 of you humans\"\n",
    "d = \"0123\"\n",
    "\n",
    "print (a.isdigit())   #1.5 is not a digit (decimal no.)\n",
    "print (b.isdigit())   #Not digit\n",
    "print (c.isdigit())   #Not digit\n",
    "print (d.isdigit())   #This is a digit."
   ]
  },
  {
   "cell_type": "code",
   "execution_count": null,
   "metadata": {
    "colab": {},
    "colab_type": "code",
    "id": "ywpdkU-kviat"
   },
   "outputs": [],
   "source": [
    "#isnumeric() function : \n",
    "#Works in the same way as isdigit() and isdecimal() but also recognizes no.s in other languages such as chinese no.s 1,2,3\n",
    "#etc in this case.\n",
    "print ('一二三四五'.isnumeric())\n",
    "print (\"1234\".isnumeric())\n",
    "print (\"abc21\".isnumeric())\n",
    "print ('一二三四五'.isdigit())"
   ]
  },
  {
   "cell_type": "code",
   "execution_count": null,
   "metadata": {
    "colab": {},
    "colab_type": "code",
    "id": "7QPpy39ySvZ7"
   },
   "outputs": [],
   "source": [
    "#islower() function:\n",
    "#Checks if every letter in a string is lowercase or not. \n",
    "\n",
    "a = \"hello234\"\n",
    "b = \"Hello\"   #H is capital\n",
    "c = \"223\"\n",
    "d = \"hiii\"\n",
    "\n",
    "print (a.islower())\n",
    "print (b.islower())\n",
    "print (c.islower())\n",
    "print (d.islower())"
   ]
  },
  {
   "cell_type": "code",
   "execution_count": null,
   "metadata": {
    "colab": {},
    "colab_type": "code",
    "id": "dMuaAK4vVCmJ"
   },
   "outputs": [],
   "source": [
    "#isspace() function :\n",
    "#Checks if the given string value is only spaces or not\n",
    "\n",
    "a = \"hello world\"   #has letters too beside the space in between \"hello\" and \"world\"\n",
    "b = \"     \"  #Only spaces\n",
    "c = \"\\t\\t\"   #\\t is an escape sequence which is used to give tab-space. One \\t => 8 spaces hence this is also true\n",
    "\n",
    "print (a.isspace())\n",
    "print (b.isspace())\n",
    "print (c.isspace())"
   ]
  },
  {
   "cell_type": "code",
   "execution_count": null,
   "metadata": {
    "colab": {},
    "colab_type": "code",
    "id": "BluLEnA5WNRc"
   },
   "outputs": [],
   "source": [
    "#isupper() function :\n",
    "#Just like islower() function it checks that if every character in a string is uppercase or not\n",
    "\n",
    "a = \"HENLO\"\n",
    "b = \"Henlo\"\n",
    "c = \"HENLO123\"\n",
    "d = \"henlo123\"\n",
    "e = \"1234\"\n",
    "\n",
    "print (a.isupper())\n",
    "print (b.isupper())\n",
    "print (c.isupper())\n",
    "print (d.isupper())\n",
    "print (e.isupper())"
   ]
  },
  {
   "cell_type": "code",
   "execution_count": null,
   "metadata": {
    "colab": {},
    "colab_type": "code",
    "id": "cqT0rVncYgUu"
   },
   "outputs": [],
   "source": [
    "#join() function\n",
    "#It takes a list consisting of elements as string values as the parameter or arguement and joins them together with the initial\n",
    "#variable value\n",
    "#Eg:\n",
    "\n",
    "a = \"hello\"\n",
    "b = [\"a\"]     #Here, b is a variable which is assigned a list having the string element \"a\" as it's first element\n",
    "c = [\"a\", \"b\"]#Here, c is a list which is having \"a\" as first index and \"b\" as second element\n",
    "d = [\"a\",\"b \",\"c\",\"d\",\" e\"]\n",
    "e = [\" a \", \" b \", \" c \", \" d \"] #Notice how variable b,c and d are all holding string values only (not integer, float, etc)\n",
    "# I will be talking about lists in detail later \n",
    "\n",
    "print (a.join(b))\n",
    "print (a.join(c))\n",
    "print (a.join(d))   #Notice \n",
    "print (a.join(e))   #Notice the spaces and how hello is \n",
    "print (a.join([\"$$ \",\" $$\"]))  #Directly using the list as the parameter inside the paranthesis of join() function\n"
   ]
  },
  {
   "cell_type": "code",
   "execution_count": 26,
   "metadata": {
    "colab": {
     "base_uri": "https://localhost:8080/",
     "height": 73
    },
    "colab_type": "code",
    "id": "XtcPKXjmeYeN",
    "outputId": "1fdbe1e6-7a47-4c72-c40e-adf0afa033f0"
   },
   "outputs": [
    {
     "name": "stdout",
     "output_type": "stream",
     "text": [
      "hello\n",
      "hello\n",
      "hello\n"
     ]
    }
   ],
   "source": [
    "#lower() function\n",
    "#It converts uppercase strings to lowercase and if it is already lowercase it doesn't do anything. Eg :\n",
    "a = \"hello\"\n",
    "b = \"HELLO\"\n",
    "c = \"hElLO\"\n",
    "print (a.lower())      #all letters are already lowercase\n",
    "print (b.lower())      #all letters will be made lowercase\n",
    "print (c.lower())      #only letters that are uppercase will be made lowercase rest all if they are lowercase will remain the same."
   ]
  },
  {
   "cell_type": "markdown",
   "metadata": {
    "colab_type": "text",
    "id": "xv6JEbXZ_4mr"
   },
   "source": [
    "* <u>Multi-line printing in python</u> :<br>\n",
    "We use <code>\"\"\"</code> triple quotes just like in case of multi-line in commenting (Topic 5 in contents) comments for multi-line printing. See the following examples below :  "
   ]
  },
  {
   "cell_type": "code",
   "execution_count": null,
   "metadata": {
    "colab": {},
    "colab_type": "code",
    "id": "eErs2moYAPxh"
   },
   "outputs": [],
   "source": [
    "#Multi-line printing in python\n",
    "\n",
    "print (\"\"\"\n",
    " This is a sentence. This is a second sentence!\n",
    " The third sentence. This sentence is fourth.\n",
    " Fivth sentence is this one. \n",
    " \"\"\".upper()\n",
    ")"
   ]
  },
  {
   "cell_type": "code",
   "execution_count": null,
   "metadata": {
    "colab": {},
    "colab_type": "code",
    "id": "gtlkqVvM-ulI"
   },
   "outputs": [],
   "source": [
    "#Multi-line printing in python (Example 2)\n",
    "\n",
    "print (\"\"\"\n",
    "\t\\n\n",
    "___________________________________ \n",
    "< I am an ASCII Art Dragon > \n",
    " ----------------------------------- \n",
    "      \\                    / \\  //\\ \n",
    "       \\    |\\___/|      /   \\//  \\\\ \n",
    "            /0  0  \\__  /    //  | \\ \\     \n",
    "           /     /  \\/_/    //   |  \\  \\   \n",
    "           @_^_@'/   \\/_   //    |   \\   \\  \n",
    "           //_^_/     \\/_ //     |    \\    \\ \n",
    "        ( //) |        \\///      |     \\     \\ \n",
    "      ( / /) _|_ /   )  //       |      \\     _\\ \n",
    "    ( // /) '/,_ _ _/  ( ; -.    |    _ _\\.-~        .-~~~^-. \n",
    "  (( / / )) ,-{        _      `-.|.-~-.           .~         `. \n",
    " (( // / ))  '/\\      /                 ~-. _ .-~      .-~^-.  \\ \n",
    " (( /// ))      `.   {            }                   /      \\  \\ \n",
    "  (( / ))     .----~-.\\        \\-'                 .~         \\  `. \\^-. \n",
    "             ///.----..>        \\             _ -~             `.  ^-`  ^-_ \n",
    "               ///-._ _ _ _ _ _ _}^ - - - - ~                     ~-- ,.-~ \n",
    "                                                                  /.-~ \n",
    "\\n\n",
    "\"\"\")"
   ]
  }
 ],
 "metadata": {
  "colab": {
   "collapsed_sections": [],
   "name": "Python_Notes_by_Saket_Savarn.ipynb",
   "provenance": []
  },
  "kernelspec": {
   "display_name": "Python 3",
   "language": "python",
   "name": "python3"
  },
  "language_info": {
   "codemirror_mode": {
    "name": "ipython",
    "version": 3
   },
   "file_extension": ".py",
   "mimetype": "text/x-python",
   "name": "python",
   "nbconvert_exporter": "python",
   "pygments_lexer": "ipython3",
   "version": "3.7.7"
  }
 },
 "nbformat": 4,
 "nbformat_minor": 1
}
